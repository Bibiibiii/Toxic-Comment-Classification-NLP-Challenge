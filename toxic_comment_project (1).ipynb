{
  "nbformat": 4,
  "nbformat_minor": 0,
  "metadata": {
    "colab": {
      "name": "toxic_comment_project.ipynb",
      "provenance": []
    },
    "kernelspec": {
      "name": "python3",
      "display_name": "Python 3"
    },
    "language_info": {
      "name": "python"
    }
  },
  "cells": [
    {
      "cell_type": "code",
      "metadata": {
        "id": "Ug3xN5D5WtY6"
      },
      "source": [
        "%matplotlib inline\n",
        "import pandas as pd\n",
        "import numpy as np\n",
        "from matplotlib import pyplot as plt"
      ],
      "execution_count": null,
      "outputs": []
    },
    {
      "cell_type": "code",
      "metadata": {
        "colab": {
          "base_uri": "https://localhost:8080/"
        },
        "id": "3J93IaPZXFPA",
        "outputId": "d55d3063-7a34-4b31-b388-8174d1339a54"
      },
      "source": [
        "from google.colab import drive\n",
        "drive.mount('/content/drive')"
      ],
      "execution_count": null,
      "outputs": [
        {
          "output_type": "stream",
          "name": "stdout",
          "text": [
            "Mounted at /content/drive\n"
          ]
        }
      ]
    },
    {
      "cell_type": "code",
      "metadata": {
        "id": "Gt8lAt0gW-lx",
        "colab": {
          "base_uri": "https://localhost:8080/",
          "height": 238
        },
        "outputId": "814c8f80-2ec9-4d95-be66-54b5157b839d"
      },
      "source": [
        "dataPath = \"/content/drive/MyDrive/advanced ml/toxic/\"\n",
        "\n",
        "train = pd.read_csv(dataPath + 'train-2.csv',index_col=0)\n",
        "train.head()"
      ],
      "execution_count": null,
      "outputs": [
        {
          "output_type": "execute_result",
          "data": {
            "text/html": [
              "<div>\n",
              "<style scoped>\n",
              "    .dataframe tbody tr th:only-of-type {\n",
              "        vertical-align: middle;\n",
              "    }\n",
              "\n",
              "    .dataframe tbody tr th {\n",
              "        vertical-align: top;\n",
              "    }\n",
              "\n",
              "    .dataframe thead th {\n",
              "        text-align: right;\n",
              "    }\n",
              "</style>\n",
              "<table border=\"1\" class=\"dataframe\">\n",
              "  <thead>\n",
              "    <tr style=\"text-align: right;\">\n",
              "      <th></th>\n",
              "      <th>comment_text</th>\n",
              "      <th>toxic</th>\n",
              "      <th>severe_toxic</th>\n",
              "      <th>obscene</th>\n",
              "      <th>threat</th>\n",
              "      <th>insult</th>\n",
              "      <th>identity_hate</th>\n",
              "    </tr>\n",
              "    <tr>\n",
              "      <th>id</th>\n",
              "      <th></th>\n",
              "      <th></th>\n",
              "      <th></th>\n",
              "      <th></th>\n",
              "      <th></th>\n",
              "      <th></th>\n",
              "      <th></th>\n",
              "    </tr>\n",
              "  </thead>\n",
              "  <tbody>\n",
              "    <tr>\n",
              "      <th>0000997932d777bf</th>\n",
              "      <td>Explanation\\nWhy the edits made under my usern...</td>\n",
              "      <td>0</td>\n",
              "      <td>0</td>\n",
              "      <td>0</td>\n",
              "      <td>0</td>\n",
              "      <td>0</td>\n",
              "      <td>0</td>\n",
              "    </tr>\n",
              "    <tr>\n",
              "      <th>000103f0d9cfb60f</th>\n",
              "      <td>D'aww! He matches this background colour I'm s...</td>\n",
              "      <td>0</td>\n",
              "      <td>0</td>\n",
              "      <td>0</td>\n",
              "      <td>0</td>\n",
              "      <td>0</td>\n",
              "      <td>0</td>\n",
              "    </tr>\n",
              "    <tr>\n",
              "      <th>000113f07ec002fd</th>\n",
              "      <td>Hey man, I'm really not trying to edit war. It...</td>\n",
              "      <td>0</td>\n",
              "      <td>0</td>\n",
              "      <td>0</td>\n",
              "      <td>0</td>\n",
              "      <td>0</td>\n",
              "      <td>0</td>\n",
              "    </tr>\n",
              "    <tr>\n",
              "      <th>0001b41b1c6bb37e</th>\n",
              "      <td>\"\\nMore\\nI can't make any real suggestions on ...</td>\n",
              "      <td>0</td>\n",
              "      <td>0</td>\n",
              "      <td>0</td>\n",
              "      <td>0</td>\n",
              "      <td>0</td>\n",
              "      <td>0</td>\n",
              "    </tr>\n",
              "    <tr>\n",
              "      <th>0001d958c54c6e35</th>\n",
              "      <td>You, sir, are my hero. Any chance you remember...</td>\n",
              "      <td>0</td>\n",
              "      <td>0</td>\n",
              "      <td>0</td>\n",
              "      <td>0</td>\n",
              "      <td>0</td>\n",
              "      <td>0</td>\n",
              "    </tr>\n",
              "  </tbody>\n",
              "</table>\n",
              "</div>"
            ],
            "text/plain": [
              "                                                       comment_text  ...  identity_hate\n",
              "id                                                                   ...               \n",
              "0000997932d777bf  Explanation\\nWhy the edits made under my usern...  ...              0\n",
              "000103f0d9cfb60f  D'aww! He matches this background colour I'm s...  ...              0\n",
              "000113f07ec002fd  Hey man, I'm really not trying to edit war. It...  ...              0\n",
              "0001b41b1c6bb37e  \"\\nMore\\nI can't make any real suggestions on ...  ...              0\n",
              "0001d958c54c6e35  You, sir, are my hero. Any chance you remember...  ...              0\n",
              "\n",
              "[5 rows x 7 columns]"
            ]
          },
          "metadata": {},
          "execution_count": 3
        }
      ]
    },
    {
      "cell_type": "code",
      "metadata": {
        "colab": {
          "base_uri": "https://localhost:8080/"
        },
        "id": "FnFBB-v33zo0",
        "outputId": "1f1fd741-0914-4dc2-941d-415468d7609b"
      },
      "source": [
        "types = list(train)[1:]\n",
        "print(types)"
      ],
      "execution_count": null,
      "outputs": [
        {
          "output_type": "stream",
          "name": "stdout",
          "text": [
            "['toxic', 'severe_toxic', 'obscene', 'threat', 'insult', 'identity_hate']\n"
          ]
        }
      ]
    },
    {
      "cell_type": "code",
      "metadata": {
        "colab": {
          "base_uri": "https://localhost:8080/",
          "height": 282
        },
        "id": "_qifyY3w3zqx",
        "outputId": "b87cb843-f36e-421e-b21b-1410bf4c1866"
      },
      "source": [
        "train[types].mean().plot(kind='barh')"
      ],
      "execution_count": null,
      "outputs": [
        {
          "output_type": "execute_result",
          "data": {
            "text/plain": [
              "<matplotlib.axes._subplots.AxesSubplot at 0x7f6341d66390>"
            ]
          },
          "metadata": {},
          "execution_count": 5
        },
        {
          "output_type": "display_data",
          "data": {
            "image/png": "[encoded data removed]",
            "text/plain": [
              "<Figure size 432x288 with 1 Axes>"
            ]
          },
          "metadata": {
            "needs_background": "light"
          }
        }
      ]
    },
    {
      "cell_type": "code",
      "metadata": {
        "colab": {
          "base_uri": "https://localhost:8080/"
        },
        "id": "fJvsEjTx3zs3",
        "outputId": "1d275c0a-23e5-47c3-8bba-be81c56675df"
      },
      "source": [
        "train[types].sum(axis=1)==0"
      ],
      "execution_count": null,
      "outputs": [
        {
          "output_type": "execute_result",
          "data": {
            "text/plain": [
              "id\n",
              "0000997932d777bf    True\n",
              "000103f0d9cfb60f    True\n",
              "000113f07ec002fd    True\n",
              "0001b41b1c6bb37e    True\n",
              "0001d958c54c6e35    True\n",
              "                    ... \n",
              "ffe987279560d7ff    True\n",
              "ffea4adeee384e90    True\n",
              "ffee36eab5c267c9    True\n",
              "fff125370e4aaaf3    True\n",
              "fff46fc426af1f9a    True\n",
              "Length: 159571, dtype: bool"
            ]
          },
          "metadata": {},
          "execution_count": 6
        }
      ]
    },
    {
      "cell_type": "code",
      "metadata": {
        "id": "JzsAAvo63zu4"
      },
      "source": [
        "nb_clean = (train[types].sum(axis=1)==0).sum()"
      ],
      "execution_count": null,
      "outputs": []
    },
    {
      "cell_type": "code",
      "metadata": {
        "colab": {
          "base_uri": "https://localhost:8080/"
        },
        "id": "a_D_zdzZ3zw3",
        "outputId": "a4a26a96-f988-4b24-ef1c-d5b0c39ded33"
      },
      "source": [
        "nb_clean"
      ],
      "execution_count": null,
      "outputs": [
        {
          "output_type": "execute_result",
          "data": {
            "text/plain": [
              "143346"
            ]
          },
          "metadata": {},
          "execution_count": 8
        }
      ]
    },
    {
      "cell_type": "code",
      "metadata": {
        "colab": {
          "base_uri": "https://localhost:8080/"
        },
        "id": "g1j3RU7Q36lZ",
        "outputId": "6615b18e-5887-46b5-b49b-2d783660414f"
      },
      "source": [
        "print('clean:',nb_clean,'(',round(100*nb_clean/len(train),2),'% )')"
      ],
      "execution_count": null,
      "outputs": [
        {
          "output_type": "stream",
          "name": "stdout",
          "text": [
            "clean: 143346 ( 89.83 % )\n"
          ]
        }
      ]
    },
    {
      "cell_type": "code",
      "metadata": {
        "id": "Znm4jGX936nW"
      },
      "source": [
        "test = pd.read_csv(dataPath + 'test.csv',index_col=0)\n",
        "test_labels = pd.read_csv(dataPath + 'test_labels.csv',index_col=0)"
      ],
      "execution_count": null,
      "outputs": []
    },
    {
      "cell_type": "code",
      "metadata": {
        "colab": {
          "base_uri": "https://localhost:8080/",
          "height": 238
        },
        "id": "KOjFtvKG36pY",
        "outputId": "08307142-bc60-487a-eb26-1366341a8280"
      },
      "source": [
        "test.head()"
      ],
      "execution_count": null,
      "outputs": [
        {
          "output_type": "execute_result",
          "data": {
            "text/html": [
              "<div>\n",
              "<style scoped>\n",
              "    .dataframe tbody tr th:only-of-type {\n",
              "        vertical-align: middle;\n",
              "    }\n",
              "\n",
              "    .dataframe tbody tr th {\n",
              "        vertical-align: top;\n",
              "    }\n",
              "\n",
              "    .dataframe thead th {\n",
              "        text-align: right;\n",
              "    }\n",
              "</style>\n",
              "<table border=\"1\" class=\"dataframe\">\n",
              "  <thead>\n",
              "    <tr style=\"text-align: right;\">\n",
              "      <th></th>\n",
              "      <th>comment_text</th>\n",
              "    </tr>\n",
              "    <tr>\n",
              "      <th>id</th>\n",
              "      <th></th>\n",
              "    </tr>\n",
              "  </thead>\n",
              "  <tbody>\n",
              "    <tr>\n",
              "      <th>00001cee341fdb12</th>\n",
              "      <td>Yo bitch Ja Rule is more succesful then you'll...</td>\n",
              "    </tr>\n",
              "    <tr>\n",
              "      <th>0000247867823ef7</th>\n",
              "      <td>== From RfC == \\n\\n The title is fine as it is...</td>\n",
              "    </tr>\n",
              "    <tr>\n",
              "      <th>00013b17ad220c46</th>\n",
              "      <td>\" \\n\\n == Sources == \\n\\n * Zawe Ashton on Lap...</td>\n",
              "    </tr>\n",
              "    <tr>\n",
              "      <th>00017563c3f7919a</th>\n",
              "      <td>:If you have a look back at the source, the in...</td>\n",
              "    </tr>\n",
              "    <tr>\n",
              "      <th>00017695ad8997eb</th>\n",
              "      <td>I don't anonymously edit articles at all.</td>\n",
              "    </tr>\n",
              "  </tbody>\n",
              "</table>\n",
              "</div>"
            ],
            "text/plain": [
              "                                                       comment_text\n",
              "id                                                                 \n",
              "00001cee341fdb12  Yo bitch Ja Rule is more succesful then you'll...\n",
              "0000247867823ef7  == From RfC == \\n\\n The title is fine as it is...\n",
              "00013b17ad220c46  \" \\n\\n == Sources == \\n\\n * Zawe Ashton on Lap...\n",
              "00017563c3f7919a  :If you have a look back at the source, the in...\n",
              "00017695ad8997eb          I don't anonymously edit articles at all."
            ]
          },
          "metadata": {},
          "execution_count": 11
        }
      ]
    },
    {
      "cell_type": "code",
      "metadata": {
        "colab": {
          "base_uri": "https://localhost:8080/",
          "height": 238
        },
        "id": "VhS6ktai36rc",
        "outputId": "4e29fce1-7916-4a26-8c7f-e5734953ba11"
      },
      "source": [
        "test_labels.head()"
      ],
      "execution_count": null,
      "outputs": [
        {
          "output_type": "execute_result",
          "data": {
            "text/html": [
              "<div>\n",
              "<style scoped>\n",
              "    .dataframe tbody tr th:only-of-type {\n",
              "        vertical-align: middle;\n",
              "    }\n",
              "\n",
              "    .dataframe tbody tr th {\n",
              "        vertical-align: top;\n",
              "    }\n",
              "\n",
              "    .dataframe thead th {\n",
              "        text-align: right;\n",
              "    }\n",
              "</style>\n",
              "<table border=\"1\" class=\"dataframe\">\n",
              "  <thead>\n",
              "    <tr style=\"text-align: right;\">\n",
              "      <th></th>\n",
              "      <th>toxic</th>\n",
              "      <th>severe_toxic</th>\n",
              "      <th>obscene</th>\n",
              "      <th>threat</th>\n",
              "      <th>insult</th>\n",
              "      <th>identity_hate</th>\n",
              "    </tr>\n",
              "    <tr>\n",
              "      <th>id</th>\n",
              "      <th></th>\n",
              "      <th></th>\n",
              "      <th></th>\n",
              "      <th></th>\n",
              "      <th></th>\n",
              "      <th></th>\n",
              "    </tr>\n",
              "  </thead>\n",
              "  <tbody>\n",
              "    <tr>\n",
              "      <th>00001cee341fdb12</th>\n",
              "      <td>-1</td>\n",
              "      <td>-1</td>\n",
              "      <td>-1</td>\n",
              "      <td>-1</td>\n",
              "      <td>-1</td>\n",
              "      <td>-1</td>\n",
              "    </tr>\n",
              "    <tr>\n",
              "      <th>0000247867823ef7</th>\n",
              "      <td>-1</td>\n",
              "      <td>-1</td>\n",
              "      <td>-1</td>\n",
              "      <td>-1</td>\n",
              "      <td>-1</td>\n",
              "      <td>-1</td>\n",
              "    </tr>\n",
              "    <tr>\n",
              "      <th>00013b17ad220c46</th>\n",
              "      <td>-1</td>\n",
              "      <td>-1</td>\n",
              "      <td>-1</td>\n",
              "      <td>-1</td>\n",
              "      <td>-1</td>\n",
              "      <td>-1</td>\n",
              "    </tr>\n",
              "    <tr>\n",
              "      <th>00017563c3f7919a</th>\n",
              "      <td>-1</td>\n",
              "      <td>-1</td>\n",
              "      <td>-1</td>\n",
              "      <td>-1</td>\n",
              "      <td>-1</td>\n",
              "      <td>-1</td>\n",
              "    </tr>\n",
              "    <tr>\n",
              "      <th>00017695ad8997eb</th>\n",
              "      <td>-1</td>\n",
              "      <td>-1</td>\n",
              "      <td>-1</td>\n",
              "      <td>-1</td>\n",
              "      <td>-1</td>\n",
              "      <td>-1</td>\n",
              "    </tr>\n",
              "  </tbody>\n",
              "</table>\n",
              "</div>"
            ],
            "text/plain": [
              "                  toxic  severe_toxic  obscene  threat  insult  identity_hate\n",
              "id                                                                           \n",
              "00001cee341fdb12     -1            -1       -1      -1      -1             -1\n",
              "0000247867823ef7     -1            -1       -1      -1      -1             -1\n",
              "00013b17ad220c46     -1            -1       -1      -1      -1             -1\n",
              "00017563c3f7919a     -1            -1       -1      -1      -1             -1\n",
              "00017695ad8997eb     -1            -1       -1      -1      -1             -1"
            ]
          },
          "metadata": {},
          "execution_count": 12
        }
      ]
    },
    {
      "cell_type": "code",
      "metadata": {
        "id": "xp5PLMjyW-nz"
      },
      "source": [
        "labelled_test = test.join(test_labels)"
      ],
      "execution_count": null,
      "outputs": []
    },
    {
      "cell_type": "code",
      "metadata": {
        "id": "QBT0-vnBW-qT"
      },
      "source": [
        "disclosed = labelled_test.toxic>-1"
      ],
      "execution_count": null,
      "outputs": []
    },
    {
      "cell_type": "code",
      "metadata": {
        "colab": {
          "base_uri": "https://localhost:8080/"
        },
        "id": "CeoFKiLn4Dy9",
        "outputId": "92ff9159-d5ee-46ba-a6c5-89076db62dd4"
      },
      "source": [
        "print(disclosed .mean(),'% of test is labelled')"
      ],
      "execution_count": null,
      "outputs": [
        {
          "output_type": "stream",
          "name": "stdout",
          "text": [
            "0.41770912224804785 % of test is labelled\n"
          ]
        }
      ]
    },
    {
      "cell_type": "code",
      "metadata": {
        "id": "kEhriUPA4D06"
      },
      "source": [
        "train = train.append(labelled_test[disclosed])\n",
        "test = labelled_test[~disclosed][['comment_text']]"
      ],
      "execution_count": null,
      "outputs": []
    },
    {
      "cell_type": "code",
      "metadata": {
        "colab": {
          "base_uri": "https://localhost:8080/"
        },
        "id": "JJ3ztOju4D29",
        "outputId": "20116f2d-1a77-4552-b01a-aa3b3a321d45"
      },
      "source": [
        "print(train.shape,test.shape)"
      ],
      "execution_count": null,
      "outputs": [
        {
          "output_type": "stream",
          "name": "stdout",
          "text": [
            "(223549, 7) (89186, 1)\n"
          ]
        }
      ]
    },
    {
      "cell_type": "code",
      "metadata": {
        "id": "k2Gs5QxU4D5K"
      },
      "source": [
        "train.to_csv(dataPath+'tc_train.csv')\n",
        "test.to_csv(dataPath+'tc_test.csv')"
      ],
      "execution_count": null,
      "outputs": []
    },
    {
      "cell_type": "code",
      "metadata": {
        "colab": {
          "base_uri": "https://localhost:8080/",
          "height": 282
        },
        "id": "aTyZN_Ye4D7L",
        "outputId": "316cd7ba-66c8-4a85-a607-9717cc1af132"
      },
      "source": [
        "train[types].mean().plot(kind='barh')"
      ],
      "execution_count": null,
      "outputs": [
        {
          "output_type": "execute_result",
          "data": {
            "text/plain": [
              "<matplotlib.axes._subplots.AxesSubplot at 0x7f633d3694d0>"
            ]
          },
          "metadata": {},
          "execution_count": 19
        },
        {
          "output_type": "display_data",
          "data": {
            "image/png": "[encoded data removed]",
            "text/plain": [
              "<Figure size 432x288 with 1 Axes>"
            ]
          },
          "metadata": {
            "needs_background": "light"
          }
        }
      ]
    },
    {
      "cell_type": "code",
      "metadata": {
        "id": "f8epVEM84D9T"
      },
      "source": [
        "%matplotlib inline\n",
        "import pandas as pd\n",
        "import numpy as np\n",
        "import pickle"
      ],
      "execution_count": null,
      "outputs": []
    },
    {
      "cell_type": "markdown",
      "metadata": {
        "id": "ke0vXWhC4m0X"
      },
      "source": [
        "Using function get_embeddings() from MScA_32017_AMLAI_TC3_WineReviewsExample.ipynb create embeddings index - a dictionary with words as keys and embedding vectors as values."
      ]
    },
    {
      "cell_type": "code",
      "metadata": {
        "id": "70IpFibo4D_b"
      },
      "source": [
        "# Create embedding index from file in .txt format. First line contains \n",
        "# dictionary size and embedding dim. Fields are space separated\n",
        "def get_embeddings(file_name):\n",
        "    embeddings_index = {}\n",
        "    with open(file_name, encoding=\"utf8\") as f:\n",
        "        for line in f:\n",
        "            # remove white spaces and split\n",
        "            values = line.rstrip().split(' ')\n",
        "            if len(values) > 2:\n",
        "                embeddings_index[values[0]] = np.asarray(values[1:], dtype=\"float32\")\n",
        "    return embeddings_index"
      ],
      "execution_count": null,
      "outputs": []
    },
    {
      "cell_type": "code",
      "metadata": {
        "id": "LbWSsHtj4EBk"
      },
      "source": [
        "embeddings_index = get_embeddings(dataPath + 'crawl-300d-2M.vec')"
      ],
      "execution_count": null,
      "outputs": []
    },
    {
      "cell_type": "markdown",
      "metadata": {
        "id": "k9esDEzmjE8c"
      },
      "source": [
        "Preprocess text with the function preprocess() from MScA_32017_AMLAI_TC3_WineReviewsExample.ipynb. Text preprocessing before creating FastText embeddings includes: removing digits, isolating punctuation and replacing consecutive spaces with single one."
      ]
    },
    {
      "cell_type": "code",
      "metadata": {
        "id": "ZpBkm_Ex4EDy"
      },
      "source": [
        "import string\n",
        "trans_table = str.maketrans({key: ' ' for key in string.digits + '\\r\\n' +\n",
        "                             string.punctuation.replace(\"\\'\",'')})\n",
        "def preprocess(text):\n",
        "    return ' '.join(text.lower().translate(trans_table).split(' '))"
      ],
      "execution_count": null,
      "outputs": []
    },
    {
      "cell_type": "markdown",
      "metadata": {
        "id": "ZTRo3RsvjIrv"
      },
      "source": [
        "Use preprocess() to preprocess comments and remove rare words. Create vocabulary of words that occur more than 5 times. To count occurrences use CountVectorizer which convers a collection of text documents to a matrix of token counts."
      ]
    },
    {
      "cell_type": "code",
      "metadata": {
        "id": "ajkfSjO24EFs",
        "colab": {
          "base_uri": "https://localhost:8080/"
        },
        "outputId": "0bce3743-4b6b-4232-f997-424c32e5ec52"
      },
      "source": [
        "from sklearn.feature_extraction.text import CountVectorizer\n",
        "\n",
        "UNKNOWN_PROXY = 'unknown'\n",
        "MIN_WORD_OCCURRENCE = 5\n",
        "\n",
        "train['comment_text'] = train.comment_text.apply(preprocess)\n",
        "print(\"Creating the vocabulary of words occurred more than\", MIN_WORD_OCCURRENCE)\n",
        "\n",
        "vectorizer = CountVectorizer(lowercase=False, token_pattern=\"\\S+\", \n",
        "                             min_df=MIN_WORD_OCCURRENCE)\n",
        "vectorizer.fit(train.comment_text)\n",
        "\n",
        "top_words = set(vectorizer.vocabulary_.keys())\n",
        "top_words.add(UNKNOWN_PROXY)\n",
        "print(len(top_words),'top words')"
      ],
      "execution_count": null,
      "outputs": [
        {
          "output_type": "stream",
          "name": "stdout",
          "text": [
            "Creating the vocabulary of words occurred more than 5\n",
            "45259 top words\n"
          ]
        }
      ]
    },
    {
      "cell_type": "markdown",
      "metadata": {
        "id": "LSDN6KIOjNWy"
      },
      "source": [
        "Check the first 10 words in the vocabulary top_words. Also check that added word \"unknown\" belongs to top_words"
      ]
    },
    {
      "cell_type": "code",
      "metadata": {
        "colab": {
          "base_uri": "https://localhost:8080/"
        },
        "id": "soLioL1UjKNX",
        "outputId": "0a848f7b-de6e-44aa-f009-a0729070793d"
      },
      "source": [
        "print('First 10 out of \"top_words\": \\n',list(top_words)[:10])\n",
        "print('\\nIs \"unknown\" in top_words? \\n','unknown' in top_words)"
      ],
      "execution_count": null,
      "outputs": [
        {
          "output_type": "stream",
          "name": "stdout",
          "text": [
            "First 10 out of \"top_words\": \n",
            " ['orphanbot', 'etc', 'pows', 'contraversy', 'joof', \"'semi\", 'computed', 'tryign', 'libel', 'recalling']\n",
            "\n",
            "Is \"unknown\" in top_words? \n",
            " True\n"
          ]
        }
      ]
    },
    {
      "cell_type": "markdown",
      "metadata": {
        "id": "3bnyAYjUjQqY"
      },
      "source": [
        "Replace all words in reviews['description'] that do not belong to the intersection of top_words and embeddings_index.keys() with UNKNOWN_PROXY. Create function filter_unknown(text, vocabulary, proxy) which does that."
      ]
    },
    {
      "cell_type": "code",
      "metadata": {
        "id": "clwsfXiYjO42"
      },
      "source": [
        "def filter_unknown(text, vocabulary, proxy):\n",
        "    return ' '. \\\n",
        "join([w if w in vocabulary else proxy for w in text.split(' ')])"
      ],
      "execution_count": null,
      "outputs": []
    },
    {
      "cell_type": "code",
      "metadata": {
        "id": "kbnPP80njTQq"
      },
      "source": [
        "train['comment_text'] = train.comment_text.apply(filter_unknown,\n",
        "                args=(set(embeddings_index.keys() & top_words), \\\n",
        "                      UNKNOWN_PROXY))"
      ],
      "execution_count": null,
      "outputs": []
    },
    {
      "cell_type": "markdown",
      "metadata": {
        "id": "mAO6ZoCsjWZ_"
      },
      "source": [
        "Prepare input data for neural network as shown in MScA_32017_AMLAI_TC3_WineReviewsExample.ipynb. Preparation includes the following actions: Transform each text to sequence of integer numbers replacing each word with its vocabulary index. Make all vectors same length, truncating sequences longer than defined length and padding shorter ones."
      ]
    },
    {
      "cell_type": "code",
      "metadata": {
        "id": "hOado2g-jUdr"
      },
      "source": [
        "from tensorflow.keras.preprocessing.text import text_to_word_sequence, Tokenizer\n",
        "from tensorflow.keras.preprocessing.sequence import pad_sequences\n",
        "from tensorflow.keras.layers import Embedding"
      ],
      "execution_count": null,
      "outputs": []
    },
    {
      "cell_type": "markdown",
      "metadata": {
        "id": "1ApKE7XunUmy"
      },
      "source": [
        "Tokenize reviews by Keras preprocessing classes\n",
        "\n",
        "Tokenizer: Class allowing to vectorize a text corpus, by turning each text into either a sequence of integers (each integer being the index of a token in a dictionary) or into a vector where the coefficient for each token could be binary, based on word count, based on tf-idf...\n",
        "\n",
        "fit_on_texts(): Method of Tokenizer that updates internal vocabulary based on a list of texts. Required before using texts_to_sequences() or texts_to_matrix()"
      ]
    },
    {
      "cell_type": "code",
      "metadata": {
        "colab": {
          "base_uri": "https://localhost:8080/"
        },
        "id": "eG9_mOZAjXrt",
        "outputId": "02806d25-aecf-4278-8dba-3d3eef734eb4"
      },
      "source": [
        "tokenizer = Tokenizer(filters=\"\")\n",
        "tokenizer.fit_on_texts(train.comment_text)\n",
        "print(tokenizer)"
      ],
      "execution_count": null,
      "outputs": [
        {
          "output_type": "stream",
          "name": "stdout",
          "text": [
            "<keras_preprocessing.text.Tokenizer object at 0x7f9ea8cf1a50>\n"
          ]
        }
      ]
    },
    {
      "cell_type": "markdown",
      "metadata": {
        "id": "exR7mpq3ngia"
      },
      "source": [
        "Result of fit_on_texts() is word_index - list of tuples with words and their index values."
      ]
    },
    {
      "cell_type": "code",
      "metadata": {
        "colab": {
          "base_uri": "https://localhost:8080/"
        },
        "id": "ZuXhN1l9jaRv",
        "outputId": "5d563277-1735-4248-fe9e-f2224a6f819e"
      },
      "source": [
        "word_index = tokenizer.word_index\n",
        "print(len(word_index))\n",
        "list(word_index.items())[:16]"
      ],
      "execution_count": null,
      "outputs": [
        {
          "output_type": "stream",
          "name": "stdout",
          "text": [
            "40185\n"
          ]
        },
        {
          "output_type": "execute_result",
          "data": {
            "text/plain": [
              "[('unknown', 1),\n",
              " ('the', 2),\n",
              " ('to', 3),\n",
              " ('of', 4),\n",
              " ('and', 5),\n",
              " ('a', 6),\n",
              " ('you', 7),\n",
              " ('i', 8),\n",
              " ('is', 9),\n",
              " ('that', 10),\n",
              " ('in', 11),\n",
              " ('it', 12),\n",
              " ('for', 13),\n",
              " ('this', 14),\n",
              " ('not', 15),\n",
              " ('on', 16)]"
            ]
          },
          "metadata": {},
          "execution_count": 32
        }
      ]
    },
    {
      "cell_type": "markdown",
      "metadata": {
        "id": "TP9vwPgZnopW"
      },
      "source": [
        "Method texts_to_sequences() turns each text into a sequence of integers. Integers are index values in word_index: check the first review, it starts with \"aroma\". That word is #16 in word_index. The first integer in the first list of seq is 16.\n",
        "\n",
        "Method pad_sequences() pads sequences to the same lengths.\n",
        "\n",
        "Dump data into file toxic_comment.pkl."
      ]
    },
    {
      "cell_type": "code",
      "metadata": {
        "colab": {
          "base_uri": "https://localhost:8080/"
        },
        "id": "K4jHUR7NjdRy",
        "outputId": "ce3921c0-19a3-4693-ff42-4101aa68b2eb"
      },
      "source": [
        "MAX_SEQUENCE_LENGTH = 50\n",
        "seq = tokenizer.texts_to_sequences(train.comment_text)\n",
        "data = pad_sequences(seq,maxlen=MAX_SEQUENCE_LENGTH,padding='post',\n",
        "                     truncating='post')\n",
        "with open(dataPath + 'toxic_comment.pkl','wb') as f: pickle.dump(data, f, -1)\n",
        "\n",
        "print('\\nFirst 2 sequences in `seq`: ',seq[:2])\n",
        "print('\\nShape of `data`: ',data.shape)\n",
        "print('\\nFirst prepared text in `data`:',data[0])"
      ],
      "execution_count": null,
      "outputs": [
        {
          "output_type": "stream",
          "name": "stdout",
          "text": [
            "\n",
            "First 2 sequences in `seq`:  [[668, 77, 2, 133, 130, 176, 31, 658, 4322, 10972, 1109, 85, 347, 1, 52, 1, 12090, 1, 51, 6172, 16, 60, 2522, 147, 8, 2744, 34, 116, 1179, 15205, 2412, 1, 5, 48, 61, 245, 2, 357, 32, 2, 42, 28, 142, 1, 3422, 89, 1, 1, 1, 1, 1, 1, 1, 1, 1, 1, 1, 1, 1], [1, 1, 53, 2714, 14, 463, 3572, 1, 4414, 2647, 22, 1, 93, 1, 1, 1, 42, 1, 1, 1, 1, 1, 1, 1, 1, 953, 1, 1, 1, 1, 1, 1, 1, 1, 1, 1, 195, 1]]\n",
            "\n",
            "Shape of `data`:  (223549, 50)\n",
            "\n",
            "First prepared text in `data`: [  668    77     2   133   130   176    31   658  4322 10972  1109    85\n",
            "   347     1    52     1 12090     1    51  6172    16    60  2522   147\n",
            "     8  2744    34   116  1179 15205  2412     1     5    48    61   245\n",
            "     2   357    32     2    42    28   142     1  3422    89     1     1\n",
            "     1     1]\n"
          ]
        }
      ]
    },
    {
      "cell_type": "markdown",
      "metadata": {
        "id": "0G6lte7Mn4DB"
      },
      "source": [
        "Step 8\n",
        "Create neural network based on DistilBert model as shown in MScA_32017_AMLAI_TC6_Wine_Reviews_Bert.ipynb, tune it on train set and make submission. Take a weighted average of this submission and the one obtained on the step 7 to get better score."
      ]
    },
    {
      "cell_type": "markdown",
      "metadata": {
        "id": "_iJqMY7_oDas"
      },
      "source": [
        "in function get_embedding_matrix() below the following combination of iterator iter() and method next() allow sequentially moving through iterable object as in this simple example:"
      ]
    },
    {
      "cell_type": "code",
      "metadata": {
        "colab": {
          "base_uri": "https://localhost:8080/"
        },
        "id": "-B2GzBl9je4q",
        "outputId": "1b440d1a-878e-4e48-8839-5f45b3a4cd4c"
      },
      "source": [
        "mlist=['word_1','word_2','word_3']\n",
        "moveIter=iter(mlist)\n",
        "print(next(moveIter,'enough'))\n",
        "print(next(moveIter,'enough'))\n",
        "print(next(moveIter,'enough'))\n",
        "print(next(moveIter,'enough'))\n",
        "print(next(moveIter,'enough'))"
      ],
      "execution_count": null,
      "outputs": [
        {
          "output_type": "stream",
          "name": "stdout",
          "text": [
            "word_1\n",
            "word_2\n",
            "word_3\n",
            "enough\n",
            "enough\n"
          ]
        }
      ]
    },
    {
      "cell_type": "markdown",
      "metadata": {
        "id": "WX9aZPS0oMWG"
      },
      "source": [
        "Below iterator is used to find length of the first row of values of embeddings_index:"
      ]
    },
    {
      "cell_type": "code",
      "metadata": {
        "colab": {
          "base_uri": "https://localhost:8080/"
        },
        "id": "gG7Xh5WMoHDD",
        "outputId": "3daa099a-6472-41af-bed2-6f15aef17440"
      },
      "source": [
        "embeddings_dim = len(next(iter(embeddings_index.values())))\n",
        "embeddings_dim"
      ],
      "execution_count": null,
      "outputs": [
        {
          "output_type": "execute_result",
          "data": {
            "text/plain": [
              "300"
            ]
          },
          "metadata": {},
          "execution_count": 33
        }
      ]
    },
    {
      "cell_type": "markdown",
      "metadata": {
        "id": "7lvOi0YZoP1h"
      },
      "source": [
        "Note that this is necessary because values of a dictionary have no attribute shape, so embeddings_index.values().shape will not work.\n",
        "\n",
        "The following function get_embedding_matrix() makes embedding matrix from word_index and embeddings_index obtained above.\n",
        "\n",
        "Embedding matrix shape is (len(word_index) + 1,embeddings_dim).\n",
        "\n",
        "Row number \n",
        "i\n",
        " of the embedding matrix contains embedding vector of the word whith index in word_index equal to \n",
        "i\n",
        "."
      ]
    },
    {
      "cell_type": "code",
      "metadata": {
        "id": "xnQ3FFUdoN1P"
      },
      "source": [
        "# Create embedding matrix\n",
        "def get_embedding_matrix(word_index,embeddings_index):\n",
        "    nb_words = len(word_index) + 1 # +1 since min(word_index.values())=1\n",
        "    embedding_matrix = np.zeros((nb_words,embeddings_dim))\n",
        "    unknown = 0\n",
        "    for word, i in word_index.items():\n",
        "        embedding_vector = embeddings_index.get(word)\n",
        "        if embedding_vector is None: unknown += 1\n",
        "        else: embedding_matrix[i] = embedding_vector\n",
        "    return embedding_matrix, unknown"
      ],
      "execution_count": null,
      "outputs": []
    },
    {
      "cell_type": "markdown",
      "metadata": {
        "id": "JMaYemj8oUnY"
      },
      "source": [
        "Now preparation of the data is finished. It is possible to start building model.But it is common and convenient to create embedding layer and save it beforehand. This helpes separating data preparation and network fitting. Then only two files are necessary to run the network: wine_data.pkl and the embedding layer, both saved earlier.\n",
        "\n",
        "In text processing networks embedding layer comes first after the input layer. It transforms sequences of integers (word indices) to sequences of correspondent embedding vectors using embedding matrix.\n",
        "\n",
        "The function below creates and saves embedding layer. Setting trainable=False means that the weights of this layer (actually the elements of embedding matrix) will not be changed during model training."
      ]
    },
    {
      "cell_type": "code",
      "metadata": {
        "colab": {
          "base_uri": "https://localhost:8080/"
        },
        "id": "sY4KHw5AoSu3",
        "outputId": "1a42a960-869d-4991-a245-69f46761214f"
      },
      "source": [
        "# Create embedding_layer and save it.\n",
        "def make_save_emb_layer(word_index,embeddings_index,layer_file_name):\n",
        "    embedding_matrix,unknown = get_embedding_matrix(word_index,embeddings_index)\n",
        "    embedding_layer = Embedding(embedding_matrix.shape[0],embedding_matrix.shape[1],\n",
        "                                weights=[embedding_matrix],trainable=False)\n",
        "    with open(layer_file_name,'wb') as f: \n",
        "        pickle.dump(embedding_layer, f, -1)\n",
        "    return unknown\n",
        "\n",
        "EMBEDDING_LAYER_FILE = dataPath + 'toxic_comment_layer1.pkl'\n",
        "print(make_save_emb_layer(word_index,embeddings_index,EMBEDDING_LAYER_FILE),\n",
        "      'unknown words')"
      ],
      "execution_count": null,
      "outputs": [
        {
          "output_type": "stream",
          "name": "stdout",
          "text": [
            "0 unknown words\n"
          ]
        }
      ]
    },
    {
      "cell_type": "markdown",
      "metadata": {
        "id": "Ws-qdKIIohDd"
      },
      "source": [
        "Model\n",
        "The following architecture of the model was used in the competition by several participans."
      ]
    },
    {
      "cell_type": "code",
      "metadata": {
        "id": "bRZrp0U4oiKs"
      },
      "source": [
        "from tensorflow.keras.layers import Dense,Embedding,Input,Dropout,Conv1D\n",
        "from tensorflow.keras.layers import SpatialDropout1D, Flatten,LSTM\n",
        "from tensorflow.keras.models import Model\n",
        "from tensorflow.keras.optimizers import Adam\n",
        "from tensorflow.keras.layers import BatchNormalization\n",
        "from tensorflow.keras.callbacks import EarlyStopping, ModelCheckpoint, TensorBoard\n",
        "from sklearn.metrics import roc_auc_score\n",
        "from tensorflow.keras.utils import plot_model\n",
        "\n",
        "\n",
        "def get_model():\n",
        "    input_layer = Input(shape=(MAX_SEQUENCE_LENGTH,))\n",
        "    x = embedding_layer(input_layer)\n",
        "    x = SpatialDropout1D(0.5)(x)\n",
        "    x = LSTM(10, return_sequences=True)(x)\n",
        "    x = Conv1D(5, kernel_size=2, padding=\"valid\")(x)\n",
        "    x = Flatten()(x)\n",
        "    x = BatchNormalization()(x)\n",
        "    x = Dropout(.2)(x)\n",
        "    output_layer = Dense(6, activation=\"softmax\")(x)\n",
        "    model = Model(inputs=input_layer, outputs=output_layer)\n",
        "    model.compile(loss=\"binary_crossentropy\", optimizer=Adam())\n",
        "    return model"
      ],
      "execution_count": null,
      "outputs": []
    },
    {
      "cell_type": "code",
      "metadata": {
        "id": "vY52uWsKpzT3"
      },
      "source": [
        "from sklearn.preprocessing import LabelEncoder\n",
        "from sklearn.model_selection import train_test_split"
      ],
      "execution_count": null,
      "outputs": []
    },
    {
      "cell_type": "code",
      "metadata": {
        "id": "6t7dIfVfq4ly"
      },
      "source": [
        "with open(EMBEDDING_LAYER_FILE, 'rb') as f: embedding_layer = pickle.load(f)\n",
        "#with open(dataPath + 'toxic_comment.pkl', 'rb') as f: data = pickle.load(f) "
      ],
      "execution_count": null,
      "outputs": []
    },
    {
      "cell_type": "code",
      "source": [
        ""
      ],
      "metadata": {
        "id": "RwvWPCEFrG-1"
      },
      "execution_count": null,
      "outputs": []
    },
    {
      "cell_type": "code",
      "metadata": {
        "id": "12HtmNc4omwH"
      },
      "source": [
        "X_train, X_test, y_train, y_test = train_test_split(data, train.iloc[:,1:], \n",
        "                    test_size=0.2, random_state=0)"
      ],
      "execution_count": null,
      "outputs": []
    },
    {
      "cell_type": "code",
      "metadata": {
        "colab": {
          "base_uri": "https://localhost:8080/",
          "height": 1000
        },
        "id": "Odbv_b0qpI06",
        "outputId": "e55eb8d4-0ce3-4989-d956-d6c1c0b35088"
      },
      "source": [
        "best_model_path = 'best_model.h5'\n",
        "BATCH_SIZE = 512\n",
        "\n",
        "early_stopping = EarlyStopping(patience=2)\n",
        "model_checkpoint = ModelCheckpoint(best_model_path,\n",
        "                                   save_best_only=True, save_weights_only=True)\n",
        "model = get_model()\n",
        "print(model.summary())\n",
        "plot_model(model, to_file='toxic_comment.png',show_shapes=True,show_layer_names=True)"
      ],
      "execution_count": null,
      "outputs": [
        {
          "output_type": "stream",
          "name": "stdout",
          "text": [
            "Model: \"model\"\n",
            "_________________________________________________________________\n",
            " Layer (type)                Output Shape              Param #   \n",
            "=================================================================\n",
            " input_2 (InputLayer)        [(None, 50)]              0         \n",
            "                                                                 \n",
            " embedding (Embedding)       (None, 50, 300)           12055800  \n",
            "                                                                 \n",
            " spatial_dropout1d (SpatialD  (None, 50, 300)          0         \n",
            " ropout1D)                                                       \n",
            "                                                                 \n",
            " lstm (LSTM)                 (None, 50, 10)            12440     \n",
            "                                                                 \n",
            " conv1d (Conv1D)             (None, 49, 5)             105       \n",
            "                                                                 \n",
            " flatten (Flatten)           (None, 245)               0         \n",
            "                                                                 \n",
            " batch_normalization (BatchN  (None, 245)              980       \n",
            " ormalization)                                                   \n",
            "                                                                 \n",
            " dropout (Dropout)           (None, 245)               0         \n",
            "                                                                 \n",
            " dense (Dense)               (None, 6)                 1476      \n",
            "                                                                 \n",
            "=================================================================\n",
            "Total params: 12,070,801\n",
            "Trainable params: 14,511\n",
            "Non-trainable params: 12,056,290\n",
            "_________________________________________________________________\n",
            "None\n"
          ]
        },
        {
          "output_type": "execute_result",
          "data": {
            "image/png": "[encoded data removed]",
            "text/plain": [
              "<IPython.core.display.Image object>"
            ]
          },
          "metadata": {},
          "execution_count": 43
        }
      ]
    },
    {
      "cell_type": "code",
      "metadata": {
        "colab": {
          "base_uri": "https://localhost:8080/"
        },
        "id": "Gao9cHBzpy5c",
        "outputId": "e3477522-25f7-46d7-c12b-872409185150"
      },
      "source": [
        "hist = model.fit(X_train, y_train,validation_data=(X_test, y_test),\n",
        "                 epochs=28, batch_size=BATCH_SIZE, shuffle=True, verbose=2,\n",
        "                 callbacks=[model_checkpoint, early_stopping])\n",
        "model.load_weights(best_model_path)\n",
        "test_pred = model.predict(X_test, batch_size=BATCH_SIZE, verbose=0)\n",
        "print('validation AUC',roc_auc_score(y_test, test_pred))"
      ],
      "execution_count": null,
      "outputs": [
        {
          "output_type": "stream",
          "name": "stdout",
          "text": [
            "Epoch 1/28\n",
            "350/350 - 54s - loss: 0.2475 - val_loss: 0.0705 - 54s/epoch - 154ms/step\n",
            "Epoch 2/28\n",
            "350/350 - 49s - loss: 0.0760 - val_loss: 0.0634 - 49s/epoch - 140ms/step\n",
            "Epoch 3/28\n",
            "350/350 - 49s - loss: 0.0695 - val_loss: 0.0622 - 49s/epoch - 141ms/step\n",
            "Epoch 4/28\n",
            "350/350 - 49s - loss: 0.0677 - val_loss: 0.0607 - 49s/epoch - 140ms/step\n",
            "Epoch 5/28\n",
            "350/350 - 51s - loss: 0.0655 - val_loss: 0.0593 - 51s/epoch - 145ms/step\n",
            "Epoch 6/28\n",
            "350/350 - 57s - loss: 0.0647 - val_loss: 0.0584 - 57s/epoch - 161ms/step\n",
            "Epoch 7/28\n",
            "350/350 - 51s - loss: 0.0636 - val_loss: 0.0588 - 51s/epoch - 144ms/step\n",
            "Epoch 8/28\n",
            "350/350 - 51s - loss: 0.0628 - val_loss: 0.0587 - 51s/epoch - 145ms/step\n",
            "validation AUC 0.31548502754553337\n"
          ]
        }
      ]
    },
    {
      "cell_type": "code",
      "metadata": {
        "colab": {
          "base_uri": "https://localhost:8080/",
          "height": 295
        },
        "id": "SdVfjbEYpI27",
        "outputId": "627c9f8a-0e67-44aa-be60-a4f131372303"
      },
      "source": [
        "import matplotlib.pyplot as plt\n",
        "plt.plot(hist.history['loss'])\n",
        "plt.plot(hist.history['val_loss'])\n",
        "plt.title('model loss')\n",
        "plt.ylabel('loss')\n",
        "plt.xlabel('epoch')\n",
        "plt.legend(['train', 'test'], loc='upper right');"
      ],
      "execution_count": null,
      "outputs": [
        {
          "output_type": "display_data",
          "data": {
            "image/png": "[encoded data removed]",
            "text/plain": [
              "<Figure size 432x288 with 1 Axes>"
            ]
          },
          "metadata": {
            "needs_background": "light"
          }
        }
      ]
    },
    {
      "cell_type": "code",
      "source": [
        "tctest = pd.read_csv(dataPath + 'tc_test.csv',index_col=0)\n",
        "tctest.head()"
      ],
      "metadata": {
        "colab": {
          "base_uri": "https://localhost:8080/",
          "height": 238
        },
        "id": "MdG-wmD_vlLZ",
        "outputId": "e6a04fdf-f398-4c50-ed93-89d3e239c396"
      },
      "execution_count": null,
      "outputs": [
        {
          "output_type": "execute_result",
          "data": {
            "text/html": [
              "<div>\n",
              "<style scoped>\n",
              "    .dataframe tbody tr th:only-of-type {\n",
              "        vertical-align: middle;\n",
              "    }\n",
              "\n",
              "    .dataframe tbody tr th {\n",
              "        vertical-align: top;\n",
              "    }\n",
              "\n",
              "    .dataframe thead th {\n",
              "        text-align: right;\n",
              "    }\n",
              "</style>\n",
              "<table border=\"1\" class=\"dataframe\">\n",
              "  <thead>\n",
              "    <tr style=\"text-align: right;\">\n",
              "      <th></th>\n",
              "      <th>comment_text</th>\n",
              "    </tr>\n",
              "    <tr>\n",
              "      <th>id</th>\n",
              "      <th></th>\n",
              "    </tr>\n",
              "  </thead>\n",
              "  <tbody>\n",
              "    <tr>\n",
              "      <th>00001cee341fdb12</th>\n",
              "      <td>Yo bitch Ja Rule is more succesful then you'll...</td>\n",
              "    </tr>\n",
              "    <tr>\n",
              "      <th>0000247867823ef7</th>\n",
              "      <td>== From RfC == \\n\\n The title is fine as it is...</td>\n",
              "    </tr>\n",
              "    <tr>\n",
              "      <th>00013b17ad220c46</th>\n",
              "      <td>\" \\n\\n == Sources == \\n\\n * Zawe Ashton on Lap...</td>\n",
              "    </tr>\n",
              "    <tr>\n",
              "      <th>00017563c3f7919a</th>\n",
              "      <td>:If you have a look back at the source, the in...</td>\n",
              "    </tr>\n",
              "    <tr>\n",
              "      <th>00017695ad8997eb</th>\n",
              "      <td>I don't anonymously edit articles at all.</td>\n",
              "    </tr>\n",
              "  </tbody>\n",
              "</table>\n",
              "</div>"
            ],
            "text/plain": [
              "                                                       comment_text\n",
              "id                                                                 \n",
              "00001cee341fdb12  Yo bitch Ja Rule is more succesful then you'll...\n",
              "0000247867823ef7  == From RfC == \\n\\n The title is fine as it is...\n",
              "00013b17ad220c46  \" \\n\\n == Sources == \\n\\n * Zawe Ashton on Lap...\n",
              "00017563c3f7919a  :If you have a look back at the source, the in...\n",
              "00017695ad8997eb          I don't anonymously edit articles at all."
            ]
          },
          "metadata": {},
          "execution_count": 47
        }
      ]
    },
    {
      "cell_type": "code",
      "metadata": {
        "id": "eJhCKup0zaBx",
        "colab": {
          "base_uri": "https://localhost:8080/"
        },
        "outputId": "e056620d-ce55-4523-c54a-a4b3ef8695c8"
      },
      "source": [
        "from sklearn.feature_extraction.text import CountVectorizer\n",
        "\n",
        "UNKNOWN_PROXY = 'unknown'\n",
        "MIN_WORD_OCCURRENCE = 5\n",
        "\n",
        "tctest['comment_text'] = tctest.comment_text.apply(preprocess)\n",
        "print(\"Creating the vocabulary of words occurred more than\", MIN_WORD_OCCURRENCE)\n",
        "\n",
        "vectorizer = CountVectorizer(lowercase=False, token_pattern=\"\\S+\", \n",
        "                             min_df=MIN_WORD_OCCURRENCE)\n",
        "vectorizer.fit(tctest.comment_text)\n",
        "\n",
        "top_words = set(vectorizer.vocabulary_.keys())\n",
        "top_words.add(UNKNOWN_PROXY)\n",
        "print(len(top_words),'top words')"
      ],
      "execution_count": null,
      "outputs": [
        {
          "output_type": "stream",
          "name": "stdout",
          "text": [
            "Creating the vocabulary of words occurred more than 5\n",
            "25113 top words\n"
          ]
        }
      ]
    },
    {
      "cell_type": "code",
      "source": [
        "tctest['comment_text'] = tctest.comment_text.apply(filter_unknown,\n",
        "                args=(set(embeddings_index.keys() & top_words), \\\n",
        "                      UNKNOWN_PROXY))"
      ],
      "metadata": {
        "id": "zZ2eHvLYvy5B"
      },
      "execution_count": null,
      "outputs": []
    },
    {
      "cell_type": "code",
      "source": [
        "tokenizer = Tokenizer(filters=\"\")\n",
        "tokenizer.fit_on_texts(tctest.comment_text)\n",
        "print(tokenizer)"
      ],
      "metadata": {
        "colab": {
          "base_uri": "https://localhost:8080/"
        },
        "id": "XzrBJkXiwnO4",
        "outputId": "6ca07c3c-90de-41aa-c6a1-096a385ae525"
      },
      "execution_count": null,
      "outputs": [
        {
          "output_type": "stream",
          "name": "stdout",
          "text": [
            "<keras_preprocessing.text.Tokenizer object at 0x7fd437b7fe50>\n"
          ]
        }
      ]
    },
    {
      "cell_type": "code",
      "source": [
        "word_index = tokenizer.word_index\n",
        "print(len(word_index))\n",
        "list(word_index.items())[:16]"
      ],
      "metadata": {
        "colab": {
          "base_uri": "https://localhost:8080/"
        },
        "id": "4uo1viFewnQq",
        "outputId": "d34b5c77-2046-4a64-dc06-36ea9f92920b"
      },
      "execution_count": null,
      "outputs": [
        {
          "output_type": "stream",
          "name": "stdout",
          "text": [
            "24011\n"
          ]
        },
        {
          "output_type": "execute_result",
          "data": {
            "text/plain": [
              "[('unknown', 1),\n",
              " ('the', 2),\n",
              " ('to', 3),\n",
              " ('a', 4),\n",
              " ('and', 5),\n",
              " ('of', 6),\n",
              " ('you', 7),\n",
              " ('i', 8),\n",
              " ('is', 9),\n",
              " ('that', 10),\n",
              " ('in', 11),\n",
              " ('it', 12),\n",
              " ('this', 13),\n",
              " ('for', 14),\n",
              " ('not', 15),\n",
              " ('on', 16)]"
            ]
          },
          "metadata": {},
          "execution_count": 57
        }
      ]
    },
    {
      "cell_type": "code",
      "source": [
        "MAX_SEQUENCE_LENGTH = 50\n",
        "seq = tokenizer.texts_to_sequences(tctest.comment_text)\n",
        "data = pad_sequences(seq,maxlen=MAX_SEQUENCE_LENGTH,padding='post',\n",
        "                     truncating='post')\n",
        "with open(dataPath + 'tctest_toxic_comment.pkl','wb') as f: pickle.dump(data, f, -1)\n",
        "\n",
        "print('\\nFirst 2 sequences in `seq`: ',seq[:2])\n",
        "print('\\nShape of `data`: ',data.shape)\n",
        "print('\\nFirst prepared text in `data`:',data[0])"
      ],
      "metadata": {
        "colab": {
          "base_uri": "https://localhost:8080/"
        },
        "id": "PMwSmA1rwvlW",
        "outputId": "87c9c4d3-25f6-47fd-996f-9e704b3016f4"
      },
      "execution_count": null,
      "outputs": [
        {
          "output_type": "stream",
          "name": "stdout",
          "text": [
            "\n",
            "First 2 sequences in `seq`:  [[1388, 205, 2845, 770, 9, 57, 20928, 82, 837, 292, 17, 3098, 66, 22, 7, 5, 5308, 7, 1542, 1, 1, 1, 8, 56, 205, 5150, 966, 1, 490, 4552, 5, 87, 7, 3, 2448, 31, 229, 7, 653, 20929, 42, 1, 2845, 770, 9, 38, 4082, 11, 674, 616, 322, 1, 424, 10992, 10, 126, 16, 157, 1, 5, 12685, 9, 249, 17106, 44, 1655, 51, 26, 4, 1964, 151, 1, 1, 1845, 490, 1897, 87, 218, 145, 502, 84, 1, 1], [1, 1, 1, 34, 1054, 1, 1, 1, 1, 1, 1, 2, 347, 9, 646, 18, 12, 9, 1, 2629, 1]]\n",
            "\n",
            "Shape of `data`:  (89186, 50)\n",
            "\n",
            "First prepared text in `data`: [ 1388   205  2845   770     9    57 20928    82   837   292    17  3098\n",
            "    66    22     7     5  5308     7  1542     1     1     1     8    56\n",
            "   205  5150   966     1   490  4552     5    87     7     3  2448    31\n",
            "   229     7   653 20929    42     1  2845   770     9    38  4082    11\n",
            "   674   616]\n"
          ]
        }
      ]
    },
    {
      "cell_type": "code",
      "source": [
        "data"
      ],
      "metadata": {
        "colab": {
          "base_uri": "https://localhost:8080/",
          "height": 166
        },
        "id": "xZrn2Se0wvnS",
        "outputId": "e7a380d7-5486-4047-f963-f632e586ae01"
      },
      "execution_count": null,
      "outputs": [
        {
          "output_type": "error",
          "ename": "NameError",
          "evalue": "ignored",
          "traceback": [
            "\u001b[0;31m---------------------------------------------------------------------------\u001b[0m",
            "\u001b[0;31mNameError\u001b[0m                                 Traceback (most recent call last)",
            "\u001b[0;32m<ipython-input-2-c5d84736ba45>\u001b[0m in \u001b[0;36m<module>\u001b[0;34m()\u001b[0m\n\u001b[0;32m----> 1\u001b[0;31m \u001b[0mdata\u001b[0m\u001b[0;34m\u001b[0m\u001b[0;34m\u001b[0m\u001b[0m\n\u001b[0m",
            "\u001b[0;31mNameError\u001b[0m: name 'data' is not defined"
          ]
        }
      ]
    },
    {
      "cell_type": "code",
      "source": [
        "tctest_pred = model.predict(data, batch_size=BATCH_SIZE, verbose=0)"
      ],
      "metadata": {
        "colab": {
          "base_uri": "https://localhost:8080/",
          "height": 166
        },
        "id": "aOtStc-0w89S",
        "outputId": "ee6df40f-7e73-405f-fa86-8ed66aa22482"
      },
      "execution_count": null,
      "outputs": [
        {
          "output_type": "error",
          "ename": "NameError",
          "evalue": "ignored",
          "traceback": [
            "\u001b[0;31m---------------------------------------------------------------------------\u001b[0m",
            "\u001b[0;31mNameError\u001b[0m                                 Traceback (most recent call last)",
            "\u001b[0;32m<ipython-input-1-2544a27410e0>\u001b[0m in \u001b[0;36m<module>\u001b[0;34m()\u001b[0m\n\u001b[0;32m----> 1\u001b[0;31m \u001b[0mtctest_pred\u001b[0m \u001b[0;34m=\u001b[0m \u001b[0mmodel\u001b[0m\u001b[0;34m.\u001b[0m\u001b[0mpredict\u001b[0m\u001b[0;34m(\u001b[0m\u001b[0mdata\u001b[0m\u001b[0;34m,\u001b[0m \u001b[0mbatch_size\u001b[0m\u001b[0;34m=\u001b[0m\u001b[0mBATCH_SIZE\u001b[0m\u001b[0;34m,\u001b[0m \u001b[0mverbose\u001b[0m\u001b[0;34m=\u001b[0m\u001b[0;36m0\u001b[0m\u001b[0;34m)\u001b[0m\u001b[0;34m\u001b[0m\u001b[0;34m\u001b[0m\u001b[0m\n\u001b[0m",
            "\u001b[0;31mNameError\u001b[0m: name 'model' is not defined"
          ]
        }
      ]
    },
    {
      "cell_type": "code",
      "source": [
        "result_df = pd.DataFrame(tctest_pred)\n",
        "result_df.to_csv(dataPath + 'result.csv')"
      ],
      "metadata": {
        "id": "Gq_NuplRyStI"
      },
      "execution_count": null,
      "outputs": []
    },
    {
      "cell_type": "code",
      "source": [
        "pd.DataFrame(tctest_pred)"
      ],
      "metadata": {
        "colab": {
          "base_uri": "https://localhost:8080/",
          "height": 424
        },
        "id": "U7sLYrv3yI6u",
        "outputId": "157fe5bc-f98b-4058-a237-ab5cfdad89ec"
      },
      "execution_count": null,
      "outputs": [
        {
          "output_type": "execute_result",
          "data": {
            "text/html": [
              "<div>\n",
              "<style scoped>\n",
              "    .dataframe tbody tr th:only-of-type {\n",
              "        vertical-align: middle;\n",
              "    }\n",
              "\n",
              "    .dataframe tbody tr th {\n",
              "        vertical-align: top;\n",
              "    }\n",
              "\n",
              "    .dataframe thead th {\n",
              "        text-align: right;\n",
              "    }\n",
              "</style>\n",
              "<table border=\"1\" class=\"dataframe\">\n",
              "  <thead>\n",
              "    <tr style=\"text-align: right;\">\n",
              "      <th></th>\n",
              "      <th>0</th>\n",
              "      <th>1</th>\n",
              "      <th>2</th>\n",
              "      <th>3</th>\n",
              "      <th>4</th>\n",
              "      <th>5</th>\n",
              "    </tr>\n",
              "  </thead>\n",
              "  <tbody>\n",
              "    <tr>\n",
              "      <th>0</th>\n",
              "      <td>0.753555</td>\n",
              "      <td>0.001956</td>\n",
              "      <td>0.160401</td>\n",
              "      <td>0.000740</td>\n",
              "      <td>0.081537</td>\n",
              "      <td>0.001811</td>\n",
              "    </tr>\n",
              "    <tr>\n",
              "      <th>1</th>\n",
              "      <td>0.585804</td>\n",
              "      <td>0.012428</td>\n",
              "      <td>0.131304</td>\n",
              "      <td>0.021844</td>\n",
              "      <td>0.188518</td>\n",
              "      <td>0.060102</td>\n",
              "    </tr>\n",
              "    <tr>\n",
              "      <th>2</th>\n",
              "      <td>0.589243</td>\n",
              "      <td>0.013746</td>\n",
              "      <td>0.140619</td>\n",
              "      <td>0.016517</td>\n",
              "      <td>0.183984</td>\n",
              "      <td>0.055891</td>\n",
              "    </tr>\n",
              "    <tr>\n",
              "      <th>3</th>\n",
              "      <td>0.607414</td>\n",
              "      <td>0.011925</td>\n",
              "      <td>0.134458</td>\n",
              "      <td>0.019985</td>\n",
              "      <td>0.178202</td>\n",
              "      <td>0.048016</td>\n",
              "    </tr>\n",
              "    <tr>\n",
              "      <th>4</th>\n",
              "      <td>0.607383</td>\n",
              "      <td>0.011760</td>\n",
              "      <td>0.100253</td>\n",
              "      <td>0.032346</td>\n",
              "      <td>0.177406</td>\n",
              "      <td>0.070851</td>\n",
              "    </tr>\n",
              "    <tr>\n",
              "      <th>...</th>\n",
              "      <td>...</td>\n",
              "      <td>...</td>\n",
              "      <td>...</td>\n",
              "      <td>...</td>\n",
              "      <td>...</td>\n",
              "      <td>...</td>\n",
              "    </tr>\n",
              "    <tr>\n",
              "      <th>89181</th>\n",
              "      <td>0.535575</td>\n",
              "      <td>0.015282</td>\n",
              "      <td>0.113919</td>\n",
              "      <td>0.035088</td>\n",
              "      <td>0.199266</td>\n",
              "      <td>0.100870</td>\n",
              "    </tr>\n",
              "    <tr>\n",
              "      <th>89182</th>\n",
              "      <td>0.600520</td>\n",
              "      <td>0.010483</td>\n",
              "      <td>0.142182</td>\n",
              "      <td>0.012655</td>\n",
              "      <td>0.198235</td>\n",
              "      <td>0.035925</td>\n",
              "    </tr>\n",
              "    <tr>\n",
              "      <th>89183</th>\n",
              "      <td>0.600075</td>\n",
              "      <td>0.010533</td>\n",
              "      <td>0.151377</td>\n",
              "      <td>0.013890</td>\n",
              "      <td>0.180689</td>\n",
              "      <td>0.043437</td>\n",
              "    </tr>\n",
              "    <tr>\n",
              "      <th>89184</th>\n",
              "      <td>0.530744</td>\n",
              "      <td>0.015813</td>\n",
              "      <td>0.166297</td>\n",
              "      <td>0.018284</td>\n",
              "      <td>0.213680</td>\n",
              "      <td>0.055183</td>\n",
              "    </tr>\n",
              "    <tr>\n",
              "      <th>89185</th>\n",
              "      <td>0.623451</td>\n",
              "      <td>0.002348</td>\n",
              "      <td>0.200244</td>\n",
              "      <td>0.002529</td>\n",
              "      <td>0.161527</td>\n",
              "      <td>0.009901</td>\n",
              "    </tr>\n",
              "  </tbody>\n",
              "</table>\n",
              "<p>89186 rows × 6 columns</p>\n",
              "</div>"
            ],
            "text/plain": [
              "              0         1         2         3         4         5\n",
              "0      0.753555  0.001956  0.160401  0.000740  0.081537  0.001811\n",
              "1      0.585804  0.012428  0.131304  0.021844  0.188518  0.060102\n",
              "2      0.589243  0.013746  0.140619  0.016517  0.183984  0.055891\n",
              "3      0.607414  0.011925  0.134458  0.019985  0.178202  0.048016\n",
              "4      0.607383  0.011760  0.100253  0.032346  0.177406  0.070851\n",
              "...         ...       ...       ...       ...       ...       ...\n",
              "89181  0.535575  0.015282  0.113919  0.035088  0.199266  0.100870\n",
              "89182  0.600520  0.010483  0.142182  0.012655  0.198235  0.035925\n",
              "89183  0.600075  0.010533  0.151377  0.013890  0.180689  0.043437\n",
              "89184  0.530744  0.015813  0.166297  0.018284  0.213680  0.055183\n",
              "89185  0.623451  0.002348  0.200244  0.002529  0.161527  0.009901\n",
              "\n",
              "[89186 rows x 6 columns]"
            ]
          },
          "metadata": {},
          "execution_count": 66
        }
      ]
    },
    {
      "cell_type": "code",
      "source": [
        "tctest"
      ],
      "metadata": {
        "colab": {
          "base_uri": "https://localhost:8080/",
          "height": 455
        },
        "id": "pjLG3x0ezNka",
        "outputId": "af45536e-697d-4e41-cd47-2d802a47d9ac"
      },
      "execution_count": null,
      "outputs": [
        {
          "output_type": "execute_result",
          "data": {
            "text/html": [
              "<div>\n",
              "<style scoped>\n",
              "    .dataframe tbody tr th:only-of-type {\n",
              "        vertical-align: middle;\n",
              "    }\n",
              "\n",
              "    .dataframe tbody tr th {\n",
              "        vertical-align: top;\n",
              "    }\n",
              "\n",
              "    .dataframe thead th {\n",
              "        text-align: right;\n",
              "    }\n",
              "</style>\n",
              "<table border=\"1\" class=\"dataframe\">\n",
              "  <thead>\n",
              "    <tr style=\"text-align: right;\">\n",
              "      <th></th>\n",
              "      <th>comment_text</th>\n",
              "    </tr>\n",
              "    <tr>\n",
              "      <th>id</th>\n",
              "      <th></th>\n",
              "    </tr>\n",
              "  </thead>\n",
              "  <tbody>\n",
              "    <tr>\n",
              "      <th>00001cee341fdb12</th>\n",
              "      <td>yo bitch ja rule is more succesful then you'll...</td>\n",
              "    </tr>\n",
              "    <tr>\n",
              "      <th>0000247867823ef7</th>\n",
              "      <td>unknown unknown unknown from rfc unknown unkno...</td>\n",
              "    </tr>\n",
              "    <tr>\n",
              "      <th>00013b17ad220c46</th>\n",
              "      <td>unknown unknown unknown unknown unknown unknow...</td>\n",
              "    </tr>\n",
              "    <tr>\n",
              "      <th>00017563c3f7919a</th>\n",
              "      <td>unknown if you have a look back at the source ...</td>\n",
              "    </tr>\n",
              "    <tr>\n",
              "      <th>00017695ad8997eb</th>\n",
              "      <td>i don't anonymously edit articles at all unknown</td>\n",
              "    </tr>\n",
              "    <tr>\n",
              "      <th>...</th>\n",
              "      <td>...</td>\n",
              "    </tr>\n",
              "    <tr>\n",
              "      <th>fffcd0960ee309b5</th>\n",
              "      <td>unknown unknown unknown unknown i totally agre...</td>\n",
              "    </tr>\n",
              "    <tr>\n",
              "      <th>fffd7a9a6eb32c16</th>\n",
              "      <td>unknown unknown unknown throw from out field t...</td>\n",
              "    </tr>\n",
              "    <tr>\n",
              "      <th>fffda9e8d6fafa9e</th>\n",
              "      <td>unknown unknown unknown unknown unknown unknow...</td>\n",
              "    </tr>\n",
              "    <tr>\n",
              "      <th>fffe8f1340a79fc2</th>\n",
              "      <td>unknown unknown unknown unknown unknown unknow...</td>\n",
              "    </tr>\n",
              "    <tr>\n",
              "      <th>ffffce3fb183ee80</th>\n",
              "      <td>unknown unknown unknown unknown unknown unknow...</td>\n",
              "    </tr>\n",
              "  </tbody>\n",
              "</table>\n",
              "<p>89186 rows × 1 columns</p>\n",
              "</div>"
            ],
            "text/plain": [
              "                                                       comment_text\n",
              "id                                                                 \n",
              "00001cee341fdb12  yo bitch ja rule is more succesful then you'll...\n",
              "0000247867823ef7  unknown unknown unknown from rfc unknown unkno...\n",
              "00013b17ad220c46  unknown unknown unknown unknown unknown unknow...\n",
              "00017563c3f7919a  unknown if you have a look back at the source ...\n",
              "00017695ad8997eb   i don't anonymously edit articles at all unknown\n",
              "...                                                             ...\n",
              "fffcd0960ee309b5  unknown unknown unknown unknown i totally agre...\n",
              "fffd7a9a6eb32c16  unknown unknown unknown throw from out field t...\n",
              "fffda9e8d6fafa9e  unknown unknown unknown unknown unknown unknow...\n",
              "fffe8f1340a79fc2  unknown unknown unknown unknown unknown unknow...\n",
              "ffffce3fb183ee80  unknown unknown unknown unknown unknown unknow...\n",
              "\n",
              "[89186 rows x 1 columns]"
            ]
          },
          "metadata": {},
          "execution_count": 70
        }
      ]
    },
    {
      "cell_type": "code",
      "source": [
        ""
      ],
      "metadata": {
        "id": "t9E8VWL7zOk3"
      },
      "execution_count": null,
      "outputs": []
    }
  ]
}