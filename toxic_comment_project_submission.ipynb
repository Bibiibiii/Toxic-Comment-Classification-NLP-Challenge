{
  "nbformat": 4,
  "nbformat_minor": 0,
  "metadata": {
    "colab": {
      "name": "toxic comment project submission.ipynb",
      "provenance": [],
      "collapsed_sections": []
    },
    "kernelspec": {
      "name": "python3",
      "display_name": "Python 3"
    },
    "language_info": {
      "name": "python"
    }
  },
  "cells": [
    {
      "cell_type": "code",
      "execution_count": null,
      "metadata": {
        "colab": {
          "base_uri": "https://localhost:8080/"
        },
        "id": "It-m0tno-1RH",
        "outputId": "e0962e22-c992-418c-97c6-3a3fca9845dc"
      },
      "outputs": [
        {
          "output_type": "stream",
          "name": "stdout",
          "text": [
            "Mounted at /content/drive\n"
          ]
        }
      ],
      "source": [
        "from google.colab import drive\n",
        "drive.mount('/content/drive')"
      ]
    },
    {
      "cell_type": "code",
      "source": [
        "import pandas as pd\n",
        "import numpy as np\n",
        "%matplotlib inline\n",
        "import numpy as np\n",
        "import pandas as pd\n",
        "import os\n",
        "from os.path import expanduser\n",
        "import pickle\n",
        "from sklearn.preprocessing import LabelEncoder\n",
        "from sklearn.model_selection import train_test_split"
      ],
      "metadata": {
        "id": "yGNzHMpn-2Wz"
      },
      "execution_count": null,
      "outputs": []
    },
    {
      "cell_type": "code",
      "source": [
        "dataPath = \"/content/drive/MyDrive/advanced ml/toxic/\"\n",
        "\n",
        "train = pd.read_csv(dataPath + 'tc_train.csv',index_col=0)\n",
        "train.head()"
      ],
      "metadata": {
        "colab": {
          "base_uri": "https://localhost:8080/",
          "height": 238
        },
        "id": "2wmjBwMD-8Et",
        "outputId": "faef9d9c-3c61-447a-e422-3ac7a6b5795a"
      },
      "execution_count": null,
      "outputs": [
        {
          "output_type": "execute_result",
          "data": {
            "text/html": [
              "<div>\n",
              "<style scoped>\n",
              "    .dataframe tbody tr th:only-of-type {\n",
              "        vertical-align: middle;\n",
              "    }\n",
              "\n",
              "    .dataframe tbody tr th {\n",
              "        vertical-align: top;\n",
              "    }\n",
              "\n",
              "    .dataframe thead th {\n",
              "        text-align: right;\n",
              "    }\n",
              "</style>\n",
              "<table border=\"1\" class=\"dataframe\">\n",
              "  <thead>\n",
              "    <tr style=\"text-align: right;\">\n",
              "      <th></th>\n",
              "      <th>comment_text</th>\n",
              "      <th>toxic</th>\n",
              "      <th>severe_toxic</th>\n",
              "      <th>obscene</th>\n",
              "      <th>threat</th>\n",
              "      <th>insult</th>\n",
              "      <th>identity_hate</th>\n",
              "    </tr>\n",
              "    <tr>\n",
              "      <th>id</th>\n",
              "      <th></th>\n",
              "      <th></th>\n",
              "      <th></th>\n",
              "      <th></th>\n",
              "      <th></th>\n",
              "      <th></th>\n",
              "      <th></th>\n",
              "    </tr>\n",
              "  </thead>\n",
              "  <tbody>\n",
              "    <tr>\n",
              "      <th>0000997932d777bf</th>\n",
              "      <td>Explanation\\nWhy the edits made under my usern...</td>\n",
              "      <td>0</td>\n",
              "      <td>0</td>\n",
              "      <td>0</td>\n",
              "      <td>0</td>\n",
              "      <td>0</td>\n",
              "      <td>0</td>\n",
              "    </tr>\n",
              "    <tr>\n",
              "      <th>000103f0d9cfb60f</th>\n",
              "      <td>D'aww! He matches this background colour I'm s...</td>\n",
              "      <td>0</td>\n",
              "      <td>0</td>\n",
              "      <td>0</td>\n",
              "      <td>0</td>\n",
              "      <td>0</td>\n",
              "      <td>0</td>\n",
              "    </tr>\n",
              "    <tr>\n",
              "      <th>000113f07ec002fd</th>\n",
              "      <td>Hey man, I'm really not trying to edit war. It...</td>\n",
              "      <td>0</td>\n",
              "      <td>0</td>\n",
              "      <td>0</td>\n",
              "      <td>0</td>\n",
              "      <td>0</td>\n",
              "      <td>0</td>\n",
              "    </tr>\n",
              "    <tr>\n",
              "      <th>0001b41b1c6bb37e</th>\n",
              "      <td>\"\\nMore\\nI can't make any real suggestions on ...</td>\n",
              "      <td>0</td>\n",
              "      <td>0</td>\n",
              "      <td>0</td>\n",
              "      <td>0</td>\n",
              "      <td>0</td>\n",
              "      <td>0</td>\n",
              "    </tr>\n",
              "    <tr>\n",
              "      <th>0001d958c54c6e35</th>\n",
              "      <td>You, sir, are my hero. Any chance you remember...</td>\n",
              "      <td>0</td>\n",
              "      <td>0</td>\n",
              "      <td>0</td>\n",
              "      <td>0</td>\n",
              "      <td>0</td>\n",
              "      <td>0</td>\n",
              "    </tr>\n",
              "  </tbody>\n",
              "</table>\n",
              "</div>"
            ],
            "text/plain": [
              "                                                       comment_text  ...  identity_hate\n",
              "id                                                                   ...               \n",
              "0000997932d777bf  Explanation\\nWhy the edits made under my usern...  ...              0\n",
              "000103f0d9cfb60f  D'aww! He matches this background colour I'm s...  ...              0\n",
              "000113f07ec002fd  Hey man, I'm really not trying to edit war. It...  ...              0\n",
              "0001b41b1c6bb37e  \"\\nMore\\nI can't make any real suggestions on ...  ...              0\n",
              "0001d958c54c6e35  You, sir, are my hero. Any chance you remember...  ...              0\n",
              "\n",
              "[5 rows x 7 columns]"
            ]
          },
          "metadata": {},
          "execution_count": 4
        }
      ]
    },
    {
      "cell_type": "code",
      "source": [
        "# Create embedding index from file in .txt format. First line contains \n",
        "# dictionary size and embedding dim. Fields are space separated\n",
        "def get_embeddings(file_name):\n",
        "    embeddings_index = {}\n",
        "    with open(file_name, encoding=\"utf8\") as f:\n",
        "        for line in f:\n",
        "            values = line.rstrip().split(' ')\n",
        "            if len(values) > 2:\n",
        "                embeddings_index[values[0]] = np.asarray(values[1:], dtype=\"float32\")\n",
        "    return embeddings_index\n",
        "embeddings_path = '/content/drive/MyDrive/advanced ml/toxic/'\n",
        "embeddings_index = get_embeddings(embeddings_path+'crawl-300d-2M.vec')"
      ],
      "metadata": {
        "id": "2UoV4H1J_ALB"
      },
      "execution_count": null,
      "outputs": []
    },
    {
      "cell_type": "code",
      "source": [
        "import string\n",
        "trans_table = str.maketrans({key: ' ' for key in string.digits + '\\r\\n' +\n",
        "                             string.punctuation.replace(\"\\'\",'')})\n",
        "def preprocess(text):\n",
        "    return ' '.join(text.lower().translate(trans_table).split(' '))\n",
        "\n",
        "train['comment_clean'] = train.comment_text.apply(preprocess)\n",
        "train.head()"
      ],
      "metadata": {
        "colab": {
          "base_uri": "https://localhost:8080/",
          "height": 307
        },
        "id": "xu1ojcA9_CZr",
        "outputId": "a8d71fca-c0ee-4736-8a61-f29b8d05355f"
      },
      "execution_count": null,
      "outputs": [
        {
          "output_type": "execute_result",
          "data": {
            "text/html": [
              "<div>\n",
              "<style scoped>\n",
              "    .dataframe tbody tr th:only-of-type {\n",
              "        vertical-align: middle;\n",
              "    }\n",
              "\n",
              "    .dataframe tbody tr th {\n",
              "        vertical-align: top;\n",
              "    }\n",
              "\n",
              "    .dataframe thead th {\n",
              "        text-align: right;\n",
              "    }\n",
              "</style>\n",
              "<table border=\"1\" class=\"dataframe\">\n",
              "  <thead>\n",
              "    <tr style=\"text-align: right;\">\n",
              "      <th></th>\n",
              "      <th>comment_text</th>\n",
              "      <th>toxic</th>\n",
              "      <th>severe_toxic</th>\n",
              "      <th>obscene</th>\n",
              "      <th>threat</th>\n",
              "      <th>insult</th>\n",
              "      <th>identity_hate</th>\n",
              "      <th>comment_clean</th>\n",
              "    </tr>\n",
              "    <tr>\n",
              "      <th>id</th>\n",
              "      <th></th>\n",
              "      <th></th>\n",
              "      <th></th>\n",
              "      <th></th>\n",
              "      <th></th>\n",
              "      <th></th>\n",
              "      <th></th>\n",
              "      <th></th>\n",
              "    </tr>\n",
              "  </thead>\n",
              "  <tbody>\n",
              "    <tr>\n",
              "      <th>0000997932d777bf</th>\n",
              "      <td>Explanation\\nWhy the edits made under my usern...</td>\n",
              "      <td>0</td>\n",
              "      <td>0</td>\n",
              "      <td>0</td>\n",
              "      <td>0</td>\n",
              "      <td>0</td>\n",
              "      <td>0</td>\n",
              "      <td>explanation why the edits made under my userna...</td>\n",
              "    </tr>\n",
              "    <tr>\n",
              "      <th>000103f0d9cfb60f</th>\n",
              "      <td>D'aww! He matches this background colour I'm s...</td>\n",
              "      <td>0</td>\n",
              "      <td>0</td>\n",
              "      <td>0</td>\n",
              "      <td>0</td>\n",
              "      <td>0</td>\n",
              "      <td>0</td>\n",
              "      <td>d'aww  he matches this background colour i'm s...</td>\n",
              "    </tr>\n",
              "    <tr>\n",
              "      <th>000113f07ec002fd</th>\n",
              "      <td>Hey man, I'm really not trying to edit war. It...</td>\n",
              "      <td>0</td>\n",
              "      <td>0</td>\n",
              "      <td>0</td>\n",
              "      <td>0</td>\n",
              "      <td>0</td>\n",
              "      <td>0</td>\n",
              "      <td>hey man  i'm really not trying to edit war  it...</td>\n",
              "    </tr>\n",
              "    <tr>\n",
              "      <th>0001b41b1c6bb37e</th>\n",
              "      <td>\"\\nMore\\nI can't make any real suggestions on ...</td>\n",
              "      <td>0</td>\n",
              "      <td>0</td>\n",
              "      <td>0</td>\n",
              "      <td>0</td>\n",
              "      <td>0</td>\n",
              "      <td>0</td>\n",
              "      <td>more i can't make any real suggestions on im...</td>\n",
              "    </tr>\n",
              "    <tr>\n",
              "      <th>0001d958c54c6e35</th>\n",
              "      <td>You, sir, are my hero. Any chance you remember...</td>\n",
              "      <td>0</td>\n",
              "      <td>0</td>\n",
              "      <td>0</td>\n",
              "      <td>0</td>\n",
              "      <td>0</td>\n",
              "      <td>0</td>\n",
              "      <td>you  sir  are my hero  any chance you remember...</td>\n",
              "    </tr>\n",
              "  </tbody>\n",
              "</table>\n",
              "</div>"
            ],
            "text/plain": [
              "                                                       comment_text  ...                                      comment_clean\n",
              "id                                                                   ...                                                   \n",
              "0000997932d777bf  Explanation\\nWhy the edits made under my usern...  ...  explanation why the edits made under my userna...\n",
              "000103f0d9cfb60f  D'aww! He matches this background colour I'm s...  ...  d'aww  he matches this background colour i'm s...\n",
              "000113f07ec002fd  Hey man, I'm really not trying to edit war. It...  ...  hey man  i'm really not trying to edit war  it...\n",
              "0001b41b1c6bb37e  \"\\nMore\\nI can't make any real suggestions on ...  ...    more i can't make any real suggestions on im...\n",
              "0001d958c54c6e35  You, sir, are my hero. Any chance you remember...  ...  you  sir  are my hero  any chance you remember...\n",
              "\n",
              "[5 rows x 8 columns]"
            ]
          },
          "metadata": {},
          "execution_count": 6
        }
      ]
    },
    {
      "cell_type": "code",
      "source": [
        "types = list(train)[1:]\n",
        "\n",
        "from sklearn.feature_extraction.text import CountVectorizer\n",
        "\n",
        "UNKNOWN_PROXY = 'unknown'\n",
        "MIN_WORD_OCCURRENCE = 5\n",
        "\n",
        "print(\"Creating the vocabulary of words occurred more than\", MIN_WORD_OCCURRENCE)\n",
        "vectorizer = CountVectorizer(lowercase=False, token_pattern=\"\\S+\", \n",
        "                             min_df=MIN_WORD_OCCURRENCE)\n",
        "vectorizer.fit(train.comment_clean)\n",
        "\n",
        "top_words = set(vectorizer.vocabulary_.keys())\n",
        "top_words.add(UNKNOWN_PROXY)\n",
        "print(len(top_words),'top words')"
      ],
      "metadata": {
        "colab": {
          "base_uri": "https://localhost:8080/"
        },
        "id": "jTQWl_-1ACgp",
        "outputId": "95f72d42-6ffd-42d3-bfc8-652c0a0440e0"
      },
      "execution_count": null,
      "outputs": [
        {
          "output_type": "stream",
          "name": "stdout",
          "text": [
            "Creating the vocabulary of words occurred more than 5\n",
            "45259 top words\n"
          ]
        }
      ]
    },
    {
      "cell_type": "code",
      "source": [
        "from keras.preprocessing.text import text_to_word_sequence, Tokenizer\n",
        "from keras.preprocessing.sequence import pad_sequences\n",
        "from keras.layers import Embedding"
      ],
      "metadata": {
        "id": "KcEHmt1nAHpB"
      },
      "execution_count": null,
      "outputs": []
    },
    {
      "cell_type": "code",
      "source": [
        "tokenizer = Tokenizer(filters=\"\")\n",
        "tokenizer.fit_on_texts(train.comment_clean)\n",
        "print(tokenizer)"
      ],
      "metadata": {
        "colab": {
          "base_uri": "https://localhost:8080/"
        },
        "id": "AFx87pFhAVWR",
        "outputId": "fe14300b-926f-49e1-ab10-bd5bc03f6a1c"
      },
      "execution_count": null,
      "outputs": [
        {
          "output_type": "stream",
          "name": "stdout",
          "text": [
            "<keras_preprocessing.text.Tokenizer object at 0x7f6baf94a250>\n"
          ]
        }
      ]
    },
    {
      "cell_type": "code",
      "source": [
        "word_index = tokenizer.word_index\n",
        "print(len(word_index))\n",
        "list(word_index.items())[:16]"
      ],
      "metadata": {
        "colab": {
          "base_uri": "https://localhost:8080/"
        },
        "id": "ngnFaR0XAW5C",
        "outputId": "9c0b2cb0-c0a1-49e1-97fd-c4395f78bae4"
      },
      "execution_count": null,
      "outputs": [
        {
          "output_type": "stream",
          "name": "stdout",
          "text": [
            "280518\n"
          ]
        },
        {
          "output_type": "execute_result",
          "data": {
            "text/plain": [
              "[('the', 1),\n",
              " ('to', 2),\n",
              " ('of', 3),\n",
              " ('and', 4),\n",
              " ('a', 5),\n",
              " ('you', 6),\n",
              " ('i', 7),\n",
              " ('is', 8),\n",
              " ('that', 9),\n",
              " ('in', 10),\n",
              " ('it', 11),\n",
              " ('for', 12),\n",
              " ('this', 13),\n",
              " ('not', 14),\n",
              " ('on', 15),\n",
              " ('be', 16)]"
            ]
          },
          "metadata": {},
          "execution_count": 10
        }
      ]
    },
    {
      "cell_type": "code",
      "source": [
        "MAX_SEQUENCE_LENGTH = 50\n",
        "seq = tokenizer.texts_to_sequences(train.comment_clean)\n",
        "data = pad_sequences(seq,maxlen=MAX_SEQUENCE_LENGTH,padding='post',\n",
        "                     truncating='post')\n",
        "with open(dataPath + 'comments.pkl','wb') as f: pickle.dump(data, f, -1)\n",
        "\n",
        "print('\\nFirst 2 sequences in `seq`: ',seq[:2])\n",
        "print('\\nShape of `data`: ',data.shape)\n",
        "print('\\nFirst prepared text in `data`:',data[0])"
      ],
      "metadata": {
        "colab": {
          "base_uri": "https://localhost:8080/"
        },
        "id": "EfS69PzaAaxT",
        "outputId": "460f9e82-9312-4c75-e42f-50c592ebc5b0"
      },
      "execution_count": null,
      "outputs": [
        {
          "output_type": "stream",
          "name": "stdout",
          "text": [
            "\n",
            "First 2 sequences in `seq`:  [[676, 77, 1, 133, 130, 177, 30, 666, 4436, 11406, 1126, 85, 349, 51, 2184, 12587, 50, 6354, 15, 59, 2567, 148, 7, 2795, 33, 116, 1196, 15967, 2453, 4, 47, 60, 247, 1, 359, 31, 1, 41, 27, 143, 71, 3503, 89], [121402, 52, 2765, 13, 466, 3656, 71, 4530, 2696, 21, 93, 41, 968, 196]]\n",
            "\n",
            "Shape of `data`:  (223549, 50)\n",
            "\n",
            "First prepared text in `data`: [  676    77     1   133   130   177    30   666  4436 11406  1126    85\n",
            "   349    51  2184 12587    50  6354    15    59  2567   148     7  2795\n",
            "    33   116  1196 15967  2453     4    47    60   247     1   359    31\n",
            "     1    41    27   143    71  3503    89     0     0     0     0     0\n",
            "     0     0]\n"
          ]
        }
      ]
    },
    {
      "cell_type": "code",
      "source": [
        "embeddings_dim = len(next(iter(embeddings_index.values())))\n",
        "embeddings_dim"
      ],
      "metadata": {
        "colab": {
          "base_uri": "https://localhost:8080/"
        },
        "id": "7ihDfDGOAc8O",
        "outputId": "b4006e78-3062-46f6-923f-a33155964e6c"
      },
      "execution_count": null,
      "outputs": [
        {
          "output_type": "execute_result",
          "data": {
            "text/plain": [
              "300"
            ]
          },
          "metadata": {},
          "execution_count": 12
        }
      ]
    },
    {
      "cell_type": "code",
      "source": [
        "# Create embedding matrix\n",
        "def get_embedding_matrix(word_index,embeddings_index):\n",
        "    nb_words = len(word_index) + 1 # +1 since min(word_index.values())=1\n",
        "    embedding_matrix = np.zeros((nb_words,embeddings_dim))\n",
        "    unknown = 0\n",
        "    for word, i in word_index.items():\n",
        "        embedding_vector = embeddings_index.get(word)\n",
        "        if embedding_vector is None: unknown += 1\n",
        "        else: embedding_matrix[i] = embedding_vector\n",
        "    return embedding_matrix, unknown"
      ],
      "metadata": {
        "id": "oqxemLxgAg0q"
      },
      "execution_count": null,
      "outputs": []
    },
    {
      "cell_type": "code",
      "source": [
        "# Create embedding_layer and save it.\n",
        "def make_save_emb_layer(word_index,embeddings_index,layer_file_name):\n",
        "    embedding_matrix,unknown = get_embedding_matrix(word_index,embeddings_index)\n",
        "    embedding_layer = Embedding(embedding_matrix.shape[0],embedding_matrix.shape[1],\n",
        "                                weights=[embedding_matrix],trainable=False)\n",
        "    with open(layer_file_name,'wb') as f: \n",
        "        pickle.dump(embedding_layer, f, -1)\n",
        "    return unknown\n",
        "\n",
        "EMBEDDING_LAYER_FILE = dataPath + 'toxic_comments_embed_layer.pkl'\n",
        "print(make_save_emb_layer(word_index,embeddings_index,EMBEDDING_LAYER_FILE),\n",
        "      'unknown words')"
      ],
      "metadata": {
        "colab": {
          "base_uri": "https://localhost:8080/"
        },
        "id": "SZyX3MWcAh9r",
        "outputId": "997aba11-f7fc-46e8-d3e0-f7c935d96d64"
      },
      "execution_count": null,
      "outputs": [
        {
          "output_type": "stream",
          "name": "stdout",
          "text": [
            "160113 unknown words\n"
          ]
        }
      ]
    },
    {
      "cell_type": "code",
      "source": [
        "import pickle\n",
        "from sklearn.model_selection import train_test_split\n",
        "\n",
        "# convert each vector of labels to the string\n",
        "labels = train[types].astype(str).apply(lambda x: ''.join(x),axis=1)\n",
        "print('Labels: \\n',labels.head())\n",
        "# aggregate rare combinations if any\n",
        "count = labels.value_counts()\n",
        "rare = count.index[count<=2]\n",
        "labels[np.isin(labels.values,rare)] = 'rare'\n",
        "print('\\nCounts of labels: \\n',labels.value_counts())\n",
        "train_index, val_index = train_test_split(list(range(data.shape[0])), test_size=0.2, \n",
        "                                      stratify = labels, random_state=0)\n",
        "# save train and validation indices for further calculations\n",
        "fname = dataPath + 'train_val_split.pkl'\n",
        "with open(fname, 'wb') as f: pickle.dump([train_index, val_index], f, -1)"
      ],
      "metadata": {
        "colab": {
          "base_uri": "https://localhost:8080/"
        },
        "id": "PCBLcMltAjKu",
        "outputId": "d6cdc77e-dd04-4d5c-f13c-90b43d6f52b7"
      },
      "execution_count": null,
      "outputs": [
        {
          "output_type": "stream",
          "name": "stdout",
          "text": [
            "Labels: \n",
            " id\n",
            "0000997932d777bf    000000explanation why the edits made under my ...\n",
            "000103f0d9cfb60f    000000d'aww  he matches this background colour...\n",
            "000113f07ec002fd    000000hey man  i'm really not trying to edit w...\n",
            "0001b41b1c6bb37e    000000  more i can't make any real suggestions...\n",
            "0001d958c54c6e35    000000you  sir  are my hero  any chance you re...\n",
            "dtype: object\n",
            "\n",
            "Counts of labels: \n",
            " rare                                                                                                                                                                                                                                                                                                                                                                                                                                                                                                                                                                                                                                                                                                                                                                                                                                                                                                                                                                                                                                                                                                                                                                                                                                                                                                                                                                                                                                                                                                                                                                                                                                                                                                                                                                                                                                                                                                                                                                                                                                             223364\n",
            "000000          jun       utc                                                                                                                                                                                                                                                                                                                                                                                                                                                                                                                                                                                                                                                                                                                                                                                                                                                                                                                                                                                                                                                                                                                                                                                                                                                                                                                                                                                                                                                                                                                                                                                                                                                                                                                                                                                                                                                                                                                                                                                                                        11\n",
            "000000  july             utc                                                                                                                                                                                                                                                                                                                                                                                                                                                                                                                                                                                                                                                                                                                                                                                                                                                                                                                                                                                                                                                                                                                                                                                                                                                                                                                                                                                                                                                                                                                                                                                                                                                                                                                                                                                                                                                                                                                                                                                                                         10\n",
            "000000          january                                                                                                                                                                                                                                                                                                                                                                                                                                                                                                                                                                                                                                                                                                                                                                                                                                                                                                                                                                                                                                                                                                                                                                                                                                                                                                                                                                                                                                                                                                                                                                                                                                                                                                                                                                                                                                                                                                                                                                                                                               9\n",
            "000000          december                                                                                                                                                                                                                                                                                                                                                                                                                                                                                                                                                                                                                                                                                                                                                                                                                                                                                                                                                                                                                                                                                                                                                                                                                                                                                                                                                                                                                                                                                                                                                                                                                                                                                                                                                                                                                                                                                                                                                                                                                              9\n",
            "000000          february                                                                                                                                                                                                                                                                                                                                                                                                                                                                                                                                                                                                                                                                                                                                                                                                                                                                                                                                                                                                                                                                                                                                                                                                                                                                                                                                                                                                                                                                                                                                                                                                                                                                                                                                                                                                                                                                                                                                                                                                                              8\n",
            "000000          mar       utc                                                                                                                                                                                                                                                                                                                                                                                                                                                                                                                                                                                                                                                                                                                                                                                                                                                                                                                                                                                                                                                                                                                                                                                                                                                                                                                                                                                                                                                                                                                                                                                                                                                                                                                                                                                                                                                                                                                                                                                                                         8\n",
            "000000         january                                                                                                                                                                                                                                                                                                                                                                                                                                                                                                                                                                                                                                                                                                                                                                                                                                                                                                                                                                                                                                                                                                                                                                                                                                                                                                                                                                                                                                                                                                                                                                                                                                                                                                                                                                                                                                                                                                                                                                                                                                8\n",
            "000000          nov       utc                                                                                                                                                                                                                                                                                                                                                                                                                                                                                                                                                                                                                                                                                                                                                                                                                                                                                                                                                                                                                                                                                                                                                                                                                                                                                                                                                                                                                                                                                                                                                                                                                                                                                                                                                                                                                                                                                                                                                                                                                         6\n",
            "000000          november                                                                                                                                                                                                                                                                                                                                                                                                                                                                                                                                                                                                                                                                                                                                                                                                                                                                                                                                                                                                                                                                                                                                                                                                                                                                                                                                                                                                                                                                                                                                                                                                                                                                                                                                                                                                                                                                                                                                                                                                                              6\n",
            "000000          sep       utc                                                                                                                                                                                                                                                                                                                                                                                                                                                                                                                                                                                                                                                                                                                                                                                                                                                                                                                                                                                                                                                                                                                                                                                                                                                                                                                                                                                                                                                                                                                                                                                                                                                                                                                                                                                                                                                                                                                                                                                                                         5\n",
            "000000keep             dec       utc                                                                                                                                                                                                                                                                                                                                                                                                                                                                                                                                                                                                                                                                                                                                                                                                                                                                                                                                                                                                                                                                                                                                                                                                                                                                                                                                                                                                                                                                                                                                                                                                                                                                                                                                                                                                                                                                                                                                                                                                                  5\n",
            "000000          jan       utc                                                                                                                                                                                                                                                                                                                                                                                                                                                                                                                                                                                                                                                                                                                                                                                                                                                                                                                                                                                                                                                                                                                                                                                                                                                                                                                                                                                                                                                                                                                                                                                                                                                                                                                                                                                                                                                                                                                                                                                                                         5\n",
            "000000          october                                                                                                                                                                                                                                                                                                                                                                                                                                                                                                                                                                                                                                                                                                                                                                                                                                                                                                                                                                                                                                                                                                                                                                                                                                                                                                                                                                                                                                                                                                                                                                                                                                                                                                                                                                                                                                                                                                                                                                                                                               5\n",
            "000000          feb       utc                                                                                                                                                                                                                                                                                                                                                                                                                                                                                                                                                                                                                                                                                                                                                                                                                                                                                                                                                                                                                                                                                                                                                                                                                                                                                                                                                                                                                                                                                                                                                                                                                                                                                                                                                                                                                                                                                                                                                                                                                         5\n",
            "000000          august                                                                                                                                                                                                                                                                                                                                                                                                                                                                                                                                                                                                                                                                                                                                                                                                                                                                                                                                                                                                                                                                                                                                                                                                                                                                                                                                                                                                                                                                                                                                                                                                                                                                                                                                                                                                                                                                                                                                                                                                                                5\n",
            "000000hong kong meetup                                                                                                                                                                                                                                                                                                                                                                                                                                                                                                                                                                                                                                                                                                                                                                                                                                                                                                                                                                                                                                                                                                                                                                                                                                                                                                                                                                                                                                                                                                                                                                                                                                                                                                                                                                                                                                                                                                                                                                                                                                4\n",
            "000000          september                                                                                                                                                                                                                                                                                                                                                                                                                                                                                                                                                                                                                                                                                                                                                                                                                                                                                                                                                                                                                                                                                                                                                                                                                                                                                                                                                                                                                                                                                                                                                                                                                                                                                                                                                                                                                                                                                                                                                                                                                             4\n",
            "000000     style   background color   f fffa  padding       cellpadding            style   border   px solid          background color   f fffa  vertical align  top  color            hello                 and welcome to wikipedia  thank you for your contributions to this free encyclopedia  if you decide that you need help  check out getting help below  ask me on my talk page  or place  on your talk page and ask your question there  please remember to sign your name on talk pages by using four tildes        or by clicking  if shown  this will automatically produce your username and the date  also  please do your best to always fill in the edit summary field with your edits  below are some useful links to facilitate your involvement  happy editing       width          style   background color  f fffa     style   width       border  px solid  ffffff  background color  f fffa  vertical align top     getting started a tutorial • our five pillars • getting mentored  how to  edit a page • upload and use images • create your first article  intuitive guide to wikipedia • article creation wizard getting help frequently asked questions • tips  where to ask questions or make comments  request administrator attention  help desk  a wiki styled page to ask questions on  help directory  a comprehensive list style help contents page policies and guidelines neutral point of view • no original research   verifiability • reliable sources • citing sources  what wikipedia is not • biographies of living persons   list of policies • three revert rule • sock puppetry  copyrights • policy for non free content • image use policy  external links • spam • vandalism • list of guidelines  deletion policy • conflict of interest • notability  class   mainpagebg   style   width       border  px solid  ffffff  background color  f fffa  vertical align top       width          cellpadding       cellspacing       style   vertical align top  background color  f fffa             3\n",
            "000000        utc      mar '     can you elaborate   squeak  in your add of the blp  you wrote   tag for blp as this article has issues    can you elaborate specifically what some of those issues are  preferably without commentary in in a short  concise  bulleted list   that way we can together address those concerns  i agree that  per the blp page  this could fall under its purview to a small extent  my concern would be that someone in the future starts making sweeping changes  read  deletions  based on idontlikeit with the blp as their smokescreen justification  i don't think that's your intent  but at some point it could happen from another  i'm hoping we all can mitigate that possibility now  thanks in advance for clarifying   •   •  •                                                                                                                                                                                                                                                                                                                                                                                                                                                                                                                                                                                                                                                                                                                                                                                                                                                                                                                                                                                                                                                                                                                                                                                                                                                                         3\n",
            "000000   —preceding unsigned comment added by                                                                                                                                                                                                                                                                                                                                                                                                                                                                                                                                                                                                                                                                                                                                                                                                                                                                                                                                                                                                                                                                                                                                                                                                                                                                                                                                                                                                                                                                                                                                                                                                                                                                                                                                                                                                                                                                                                                                                                                                         3\n",
            "000000          dec       utc                                                                                                                                                                                                                                                                                                                                                                                                                                                                                                                                                                                                                                                                                                                                                                                                                                                                                                                                                                                                                                                                                                                                                                                                                                                                                                                                                                                                                                                                                                                                                                                                                                                                                                                                                                                                                                                                                                                                                                                                                         3\n",
            "000000    unblock request                                                                                                                                                                                                                                                                                                                                                                                                                                                                                                                                                                                                                                                                                                                                                                                                                                                                                                                                                                                                                                                                                                                                                                                                                                                                                                                                                                                                                                                                                                                                                                                                                                                                                                                                                                                                                                                                                                                                                                                                                             3\n",
            "000000january      thank you for experimenting with  wikipedia  your test worked  and it has been reverted or removed  please use the sandbox for any other tests you may want to do  take a look at the welcome page to learn more about contributing to our encyclopedia                                                                                                                                                                                                                                                                                                                                                                                                                                                                                                                                                                                                                                                                                                                                                                                                                                                                                                                                                                                                                                                                                                                                                                                                                                                                                                                                                                                                                                                                                                                                                                                                                                                                                                                                                                            3\n",
            "000000  thanks                                                                                                                                                                                                                                                                                                                                                                                                                                                                                                                                                                                                                                                                                                                                                                                                                                                                                                                                                                                                                                                                                                                                                                                                                                                                                                                                                                                                                                                                                                                                                                                                                                                                                                                                                                                                                                                                                                                                                                                                                                        3\n",
            "000000redirect talk      south asian football federation gold cup                                                                                                                                                                                                                                                                                                                                                                                                                                                                                                                                                                                                                                                                                                                                                                                                                                                                                                                                                                                                                                                                                                                                                                                                                                                                                                                                                                                                                                                                                                                                                                                                                                                                                                                                                                                                                                                                                                                                                                                     3\n",
            "000000   july       utc eh    there once was a 'pedian from doylestownnan but it was easy to enquire when s protection would expire   and quietly begin a count down  released under da creative commons share alike licence by uhhhhh industries     anyway    i can once again make it extremely clear that i am not a massive fan of da graceful slick nor his aiders or abettors                                                                                                                                                                                                                                                                                                                                                                                                                                                                                                                                                                                                                                                                                                                                                                                                                                                                                                                                                                                                                                                                                                                                                                                                                                                                                                                                                                                                                                                                                                                                                                                                                                                                  3\n",
            "000000          march                                                                                                                                                                                                                                                                                                                                                                                                                                                                                                                                                                                                                                                                                                                                                                                                                                                                                                                                                                                                                                                                                                                                                                                                                                                                                                                                                                                                                                                                                                                                                                                                                                                                                                                                                                                                                                                                                                                                                                                                                                 3\n",
            "000000july                utc                                                                                                                                                                                                                                                                                                                                                                                                                                                                                                                                                                                                                                                                                                                                                                                                                                                                                                                                                                                                                                                                                                                                                                                                                                                                                                                                                                                                                                                                                                                                                                                                                                                                                                                                                                                                                                                                                                                                                                                                                         3\n",
            "000000       jun           utc                                                                                                                                                                                                                                                                                                                                                                                                                                                                                                                                                                                                                                                                                                                                                                                                                                                                                                                                                                                                                                                                                                                                                                                                                                                                                                                                                                                                                                                                                                                                                                                                                                                                                                                                                                                                                                                                                                                                                                                                                        3\n",
            "000000         february                                                                                                                                                                                                                                                                                                                                                                                                                                                                                                                                                                                                                                                                                                                                                                                                                                                                                                                                                                                                                                                                                                                                                                                                                                                                                                                                                                                                                                                                                                                                                                                                                                                                                                                                                                                                                                                                                                                                                                                                                               3\n",
            "000000thanks for the info                                                                                                                                                                                                                                                                                                                                                                                                                                                                                                                                                                                                                                                                                                                                                                                                                                                                                                                                                                                                                                                                                                                                                                                                                                                                                                                                                                                                                                                                                                                                                                                                                                                                                                                                                                                                                                                                                                                                                                                                                             3\n",
            "000000  hong kong meetup                                                                                                                                                                                                                                                                                                                                                                                                                                                                                                                                                                                                                                                                                                                                                                                                                                                                                                                                                                                                                                                                                                                                                                                                                                                                                                                                                                                                                                                                                                                                                                                                                                                                                                                                                                                                                                                                                                                                                                                                                              3\n",
            "000000  welcome   hello  and welcome to wikipedia  thank you for your contributions   currently  you are editing without a username  you can continue to do so  as you are not required to log in to wikipedia to read and edit articles  however  logging in will result in a username being shown instead of your ip address  yours is                  logging in does not require any personal details  and there are many other benefits for logging in   when you edit pages    please respect others' copyrights  do not copy and paste the contents from webpages directly   please use a neutral point of view when editing articles  this is possibly the most important wikipedia policy   if you are testing  please use the sandbox to do so    do not add unreasonable contents into any articles  such as copyrighted text  advertisement messages  and text that is not related to an article's subject  adding such content or editing articles maliciously is considered vandalism   the wikipedia tutorial is a good place to start learning about wikipedia  for now  if you are stuck  you can click the edit this page tab above  type   helpme   in the edit box  and then click save page  an experienced wikipedian will be around shortly to answer any questions you may have  also feel free to ask a question on   i will answer your questions as far as i can  thank you again for contributing to wikipedia                                                                                                                                                                                                                                                                                                                                                                                                                                                                                                                                                                                                           3\n",
            "000000   june             utc                                                                                                                                                                                                                                                                                                                                                                                                                                                                                                                                                                                                                                                                                                                                                                                                                                                                                                                                                                                                                                                                                                                                                                                                                                                                                                                                                                                                                                                                                                                                                                                                                                                                                                                                                                                                                                                                                                                                                                                                                         3\n",
            "000000                                                                                                                                                                                                                                                                                                                                                                                                                                                                                                                                                                                                                                                                                                                                                                                                                                                                                                                                                                                                                                                                                                                                                                                                                                                                                                                                                                                                                                                                                                                                                                                                                                                                                                                                                                                                                                                                                                                                                                                                                                                3\n",
            "000000         october                                                                                                                                                                                                                                                                                                                                                                                                                                                                                                                                                                                                                                                                                                                                                                                                                                                                                                                                                                                                                                                                                                                                                                                                                                                                                                                                                                                                                                                                                                                                                                                                                                                                                                                                                                                                                                                                                                                                                                                                                                3\n",
            "000000       july       utc                                                                                                                                                                                                                                                                                                                                                                                                                                                                                                                                                                                                                                                                                                                                                                                                                                                                                                                                                                                                                                                                                                                                                                                                                                                                                                                                                                                                                                                                                                                                                                                                                                                                                                                                                                                                                                                                                                                                                                                                                           3\n",
            "000000          jul       utc                                                                                                                                                                                                                                                                                                                                                                                                                                                                                                                                                                                                                                                                                                                                                                                                                                                                                                                                                                                                                                                                                                                                                                                                                                                                                                                                                                                                                                                                                                                                                                                                                                                                                                                                                                                                                                                                                                                                                                                                                         3\n",
            "000000  thank you                                                                                                                                                                                                                                                                                                                                                                                                                                                                                                                                                                                                                                                                                                                                                                                                                                                                                                                                                                                                                                                                                                                                                                                                                                                                                                                                                                                                                                                                                                                                                                                                                                                                                                                                                                                                                                                                                                                                                                                                                                     3\n",
            "000000  talk           jun       utc                                                                                                                                                                                                                                                                                                                                                                                                                                                                                                                                                                                                                                                                                                                                                                                                                                                                                                                                                                                                                                                                                                                                                                                                                                                                                                                                                                                                                                                                                                                                                                                                                                                                                                                                                                                                                                                                                                                                                                                                                  3\n",
            "000000   welcome   hello  and welcome to wikipedia  thank you for your contributions  i hope you like the place and decide to stay  here are some pages you might like to see    the five pillars of wikipedia  help pages  tutorial  how to edit a page and how to develop articles  how to create your first article  using the article wizard if you wish   manual of style  you are welcome to continue editing articles without logging in  but many editors recommend that you   create an account   doing so is free  requires no personal information  and provides several benefits such as the ability to create articles  for a full outline and explanation of the benefits that come with creating an account  please see this page  if you edit without a username  your ip address                 is used to identify you instead   in any case  i hope you enjoy editing here and being a wikipedian  please sign your comments on talk pages using four tildes         this will automatically produce your ip address  or username if you're logged in  and the date  if you need help  check out wikipedia questions  ask me on my talk page  or ask your question and then place   helpme   before the question on this page  again  welcome   tc                                                                                                                                                                                                                                                                                                                                                                                                                                                                                                                                                                                                                                                                                                                                                                                3\n",
            "dtype: int64\n"
          ]
        }
      ]
    },
    {
      "cell_type": "code",
      "source": [
        "from tensorflow.keras.layers import Dense,Embedding,Input,Dropout,Conv1D\n",
        "from tensorflow.keras.layers import SpatialDropout1D, Flatten,LSTM\n",
        "from tensorflow.keras.models import Model\n",
        "from tensorflow.keras.optimizers import Adam\n",
        "from tensorflow.keras.layers import BatchNormalization\n",
        "from tensorflow.keras.callbacks import EarlyStopping, ModelCheckpoint, TensorBoard\n",
        "from sklearn.metrics import roc_auc_score\n",
        "from tensorflow.keras.utils import plot_model\n",
        "from tensorflow.keras.layers import GlobalAveragePooling1D, GlobalMaxPooling1D, concatenate\n",
        "\n",
        "def get_model():\n",
        "    input_layer = Input(shape=(MAX_SEQUENCE_LENGTH,))\n",
        "    x = embedding_layer(input_layer)\n",
        "    x = SpatialDropout1D(0.5)(x)\n",
        "    x = LSTM(10, return_sequences=True)(x)\n",
        "    x = Conv1D(5, kernel_size=2, padding=\"valid\")(x)\n",
        "    max = GlobalMaxPooling1D()(x)\n",
        "    avg = GlobalAveragePooling1D()(x)\n",
        "    x = concatenate([max,avg])\n",
        "    x = BatchNormalization()(x)\n",
        "    x = Dropout(.2)(x)\n",
        "    output_layer = Dense(6, activation=\"sigmoid\")(x)\n",
        "    model = Model(inputs=input_layer, outputs=output_layer)\n",
        "    model.compile(loss=\"binary_crossentropy\", optimizer=Adam())\n",
        "    return model"
      ],
      "metadata": {
        "id": "thRJr-lcAk0_"
      },
      "execution_count": null,
      "outputs": []
    },
    {
      "cell_type": "code",
      "source": [
        "with open(EMBEDDING_LAYER_FILE, 'rb') as f: embedding_layer = pickle.load(f)\n",
        "with open(dataPath + 'comments.pkl', 'rb') as f: data = pickle.load(f)   \n",
        "\n",
        "X_train = data[train_index]\n",
        "X_val = data[val_index]\n",
        "\n",
        "y_train = train.iloc[train_index][['toxic','severe_toxic','obscene','threat','insult','identity_hate']]\n",
        "y_val = train.iloc[val_index][['toxic','severe_toxic','obscene','threat','insult','identity_hate']]"
      ],
      "metadata": {
        "id": "1SAGG2t-NqjU"
      },
      "execution_count": null,
      "outputs": []
    },
    {
      "cell_type": "code",
      "source": [
        "best_model_path = 'best_model.h5'\n",
        "BATCH_SIZE = 512\n",
        "\n",
        "early_stopping = EarlyStopping(patience=5)\n",
        "model_checkpoint = ModelCheckpoint(best_model_path,\n",
        "                                   save_best_only=True, save_weights_only=True)\n",
        "\n",
        "model = get_model()\n",
        "print(model.summary())"
      ],
      "metadata": {
        "colab": {
          "base_uri": "https://localhost:8080/"
        },
        "id": "m16BE-9PQzW-",
        "outputId": "325dc18e-6d1c-46fe-f5c3-a3823c35cb96"
      },
      "execution_count": null,
      "outputs": [
        {
          "output_type": "stream",
          "name": "stdout",
          "text": [
            "Model: \"model\"\n",
            "__________________________________________________________________________________________________\n",
            " Layer (type)                   Output Shape         Param #     Connected to                     \n",
            "==================================================================================================\n",
            " input_1 (InputLayer)           [(None, 50)]         0           []                               \n",
            "                                                                                                  \n",
            " embedding (Embedding)          (None, 50, 300)      84155700    ['input_1[0][0]']                \n",
            "                                                                                                  \n",
            " spatial_dropout1d (SpatialDrop  (None, 50, 300)     0           ['embedding[0][0]']              \n",
            " out1D)                                                                                           \n",
            "                                                                                                  \n",
            " lstm (LSTM)                    (None, 50, 10)       12440       ['spatial_dropout1d[0][0]']      \n",
            "                                                                                                  \n",
            " conv1d (Conv1D)                (None, 49, 5)        105         ['lstm[0][0]']                   \n",
            "                                                                                                  \n",
            " global_max_pooling1d (GlobalMa  (None, 5)           0           ['conv1d[0][0]']                 \n",
            " xPooling1D)                                                                                      \n",
            "                                                                                                  \n",
            " global_average_pooling1d (Glob  (None, 5)           0           ['conv1d[0][0]']                 \n",
            " alAveragePooling1D)                                                                              \n",
            "                                                                                                  \n",
            " concatenate (Concatenate)      (None, 10)           0           ['global_max_pooling1d[0][0]',   \n",
            "                                                                  'global_average_pooling1d[0][0]'\n",
            "                                                                 ]                                \n",
            "                                                                                                  \n",
            " batch_normalization (BatchNorm  (None, 10)          40          ['concatenate[0][0]']            \n",
            " alization)                                                                                       \n",
            "                                                                                                  \n",
            " dropout (Dropout)              (None, 10)           0           ['batch_normalization[0][0]']    \n",
            "                                                                                                  \n",
            " dense (Dense)                  (None, 6)            66          ['dropout[0][0]']                \n",
            "                                                                                                  \n",
            "==================================================================================================\n",
            "Total params: 84,168,351\n",
            "Trainable params: 12,631\n",
            "Non-trainable params: 84,155,720\n",
            "__________________________________________________________________________________________________\n",
            "None\n"
          ]
        }
      ]
    },
    {
      "cell_type": "code",
      "source": [
        "hist = model.fit(X_train, y_train,validation_data=(X_val, y_val),\n",
        "                 epochs=28, batch_size=BATCH_SIZE, shuffle=True, verbose=2,\n",
        "                 callbacks=[model_checkpoint, early_stopping])\n",
        "model.load_weights(best_model_path)\n",
        "val_pred = model.predict(X_val, batch_size=BATCH_SIZE, verbose=0)\n",
        "print('validation AUC',roc_auc_score(y_val, val_pred))"
      ],
      "metadata": {
        "colab": {
          "base_uri": "https://localhost:8080/"
        },
        "id": "Qfo3SVwWQ19K",
        "outputId": "881c2994-009e-4a8e-a9a7-e5f6025918ed"
      },
      "execution_count": null,
      "outputs": [
        {
          "output_type": "stream",
          "name": "stdout",
          "text": [
            "Epoch 1/28\n",
            "350/350 - 48s - loss: 0.0565 - val_loss: 0.0510 - 48s/epoch - 136ms/step\n",
            "Epoch 2/28\n",
            "350/350 - 48s - loss: 0.0566 - val_loss: 0.0509 - 48s/epoch - 137ms/step\n",
            "Epoch 3/28\n",
            "350/350 - 52s - loss: 0.0564 - val_loss: 0.0506 - 52s/epoch - 147ms/step\n",
            "Epoch 4/28\n",
            "350/350 - 49s - loss: 0.0565 - val_loss: 0.0506 - 49s/epoch - 139ms/step\n",
            "Epoch 5/28\n",
            "350/350 - 50s - loss: 0.0562 - val_loss: 0.0506 - 50s/epoch - 143ms/step\n",
            "Epoch 6/28\n",
            "350/350 - 49s - loss: 0.0561 - val_loss: 0.0517 - 49s/epoch - 139ms/step\n",
            "Epoch 7/28\n",
            "350/350 - 50s - loss: 0.0559 - val_loss: 0.0507 - 50s/epoch - 142ms/step\n",
            "Epoch 8/28\n",
            "350/350 - 51s - loss: 0.0559 - val_loss: 0.0508 - 51s/epoch - 145ms/step\n",
            "Epoch 9/28\n",
            "350/350 - 52s - loss: 0.0553 - val_loss: 0.0505 - 52s/epoch - 147ms/step\n",
            "Epoch 10/28\n",
            "350/350 - 51s - loss: 0.0556 - val_loss: 0.0502 - 51s/epoch - 145ms/step\n",
            "Epoch 11/28\n",
            "350/350 - 50s - loss: 0.0554 - val_loss: 0.0509 - 50s/epoch - 142ms/step\n",
            "Epoch 12/28\n",
            "350/350 - 54s - loss: 0.0554 - val_loss: 0.0503 - 54s/epoch - 153ms/step\n",
            "Epoch 13/28\n",
            "350/350 - 49s - loss: 0.0552 - val_loss: 0.0504 - 49s/epoch - 139ms/step\n",
            "Epoch 14/28\n",
            "350/350 - 49s - loss: 0.0551 - val_loss: 0.0502 - 49s/epoch - 141ms/step\n",
            "Epoch 15/28\n",
            "350/350 - 50s - loss: 0.0550 - val_loss: 0.0504 - 50s/epoch - 143ms/step\n",
            "Epoch 16/28\n",
            "350/350 - 51s - loss: 0.0551 - val_loss: 0.0501 - 51s/epoch - 147ms/step\n",
            "Epoch 17/28\n",
            "350/350 - 49s - loss: 0.0551 - val_loss: 0.0510 - 49s/epoch - 141ms/step\n",
            "Epoch 18/28\n",
            "350/350 - 49s - loss: 0.0549 - val_loss: 0.0503 - 49s/epoch - 139ms/step\n",
            "Epoch 19/28\n",
            "350/350 - 49s - loss: 0.0546 - val_loss: 0.0501 - 49s/epoch - 139ms/step\n",
            "Epoch 20/28\n",
            "350/350 - 50s - loss: 0.0550 - val_loss: 0.0502 - 50s/epoch - 144ms/step\n",
            "Epoch 21/28\n",
            "350/350 - 50s - loss: 0.0545 - val_loss: 0.0500 - 50s/epoch - 143ms/step\n",
            "Epoch 22/28\n",
            "350/350 - 50s - loss: 0.0546 - val_loss: 0.0498 - 50s/epoch - 142ms/step\n",
            "Epoch 23/28\n",
            "350/350 - 50s - loss: 0.0544 - val_loss: 0.0499 - 50s/epoch - 144ms/step\n",
            "Epoch 24/28\n",
            "350/350 - 52s - loss: 0.0546 - val_loss: 0.0501 - 52s/epoch - 150ms/step\n",
            "Epoch 25/28\n",
            "350/350 - 50s - loss: 0.0542 - val_loss: 0.0497 - 50s/epoch - 143ms/step\n",
            "Epoch 26/28\n",
            "350/350 - 48s - loss: 0.0542 - val_loss: 0.0502 - 48s/epoch - 138ms/step\n",
            "Epoch 27/28\n",
            "350/350 - 49s - loss: 0.0539 - val_loss: 0.0496 - 49s/epoch - 140ms/step\n",
            "Epoch 28/28\n",
            "350/350 - 47s - loss: 0.0539 - val_loss: 0.0500 - 47s/epoch - 135ms/step\n",
            "validation AUC 0.9802214850320662\n"
          ]
        }
      ]
    },
    {
      "cell_type": "code",
      "source": [
        "test = pd.read_csv(dataPath + 'tc_test.csv',index_col=0)\n",
        "\n",
        "test['comment_clean'] = test.comment_text.apply(preprocess)\n",
        "\n",
        "test_seq = tokenizer.texts_to_sequences(test.comment_clean)\n",
        "test_data = pad_sequences(test_seq,maxlen=MAX_SEQUENCE_LENGTH,padding='post',\n",
        "                         truncating='post')\n",
        "with open(dataPath + 'test_comments.pkl','wb') as f: pickle.dump(data, f, -1)\n",
        "test_pred = model.predict(test_data, batch_size=BATCH_SIZE, verbose=0)\n",
        "out = pd.DataFrame(test_pred, index=test.index)\n",
        "out.columns = ['toxic','severe_toxic','obscene','threat','insult','identity_hate']\n",
        "out.to_csv(dataPath + 'tc_output.csv')"
      ],
      "metadata": {
        "id": "AUbjUyAwQ-HM"
      },
      "execution_count": null,
      "outputs": []
    }
  ]
}